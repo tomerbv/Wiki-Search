{
  "nbformat": 4,
  "nbformat_minor": 0,
  "metadata": {
    "colab": {
      "name": "doc_info_index_gcp.ipynb",
      "provenance": [],
      "collapsed_sections": []
    },
    "kernelspec": {
      "name": "python3",
      "display_name": "Python 3"
    },
    "language_info": {
      "name": "python"
    }
  },
  "cells": [
    {
      "cell_type": "code",
      "execution_count": null,
      "metadata": {
        "id": "WAePsPelcl7A"
      },
      "outputs": [],
      "source": [
        "# if the following command generates an error, you probably didn't enable \n",
        "# the cluster security option \"Allow API access to all Google Cloud services\"\n",
        "# under Manage Security → Project Access when setting up the cluster\n",
        "!gcloud dataproc clusters list --region us-central1"
      ]
    },
    {
      "cell_type": "code",
      "source": [
        "!pip install -q google-cloud-storage==1.43.0\n",
        "!pip install -q graphframes"
      ],
      "metadata": {
        "id": "fYeDxjVwg1zj"
      },
      "execution_count": null,
      "outputs": []
    },
    {
      "cell_type": "code",
      "source": [
        "import pyspark\n",
        "import sys\n",
        "from collections import Counter, OrderedDict, defaultdict\n",
        "import itertools\n",
        "from itertools import islice, count, groupby\n",
        "import pandas as pd\n",
        "import os\n",
        "import re\n",
        "from operator import itemgetter\n",
        "import nltk\n",
        "from nltk.stem.porter import *\n",
        "from nltk.corpus import stopwords\n",
        "from time import time\n",
        "from pathlib import Path\n",
        "import pickle\n",
        "import pandas as pd\n",
        "from google.cloud import storage\n",
        "\n",
        "import hashlib\n",
        "def _hash(s):\n",
        "    return hashlib.blake2b(bytes(s, encoding='utf8'), digest_size=5).hexdigest()\n",
        "\n",
        "nltk.download('stopwords')"
      ],
      "metadata": {
        "id": "tXJEpbUHg1xR"
      },
      "execution_count": null,
      "outputs": []
    },
    {
      "cell_type": "code",
      "source": [
        "# if nothing prints here you forgot to include the initialization script when starting the cluster\n",
        "!ls -l /usr/lib/spark/jars/graph*"
      ],
      "metadata": {
        "id": "SLcfPpx4g1u_"
      },
      "execution_count": null,
      "outputs": []
    },
    {
      "cell_type": "code",
      "source": [
        "from pyspark.sql import *\n",
        "from pyspark.sql.functions import *\n",
        "from pyspark import SparkContext, SparkConf, SparkFiles\n",
        "from pyspark.sql import SQLContext\n",
        "from graphframes import *"
      ],
      "metadata": {
        "id": "hc8ylKcVg1sR"
      },
      "execution_count": null,
      "outputs": []
    },
    {
      "cell_type": "code",
      "source": [
        "# Put your bucket name below and make sure you can access it without an error\n",
        "bucket_name = '3111444' \n",
        "client = storage.Client()\n",
        "blobs = client.list_blobs(bucket_name)\n",
        "for b in blobs:\n",
        "    print(b.name)"
      ],
      "metadata": {
        "id": "j4Q7gFukg1pR"
      },
      "execution_count": null,
      "outputs": []
    },
    {
      "cell_type": "code",
      "source": [
        "english_stopwords = frozenset(stopwords.words('english'))\n",
        "corpus_stopwords = [\"category\", \"references\", \"also\", \"external\", \"links\", \n",
        "                    \"may\", \"first\", \"see\", \"history\", \"people\", \"one\", \"two\", \n",
        "                    \"part\", \"thumb\", \"including\", \"second\", \"following\", \n",
        "                    \"many\", \"however\", \"would\", \"became\"]\n",
        "\n",
        "all_stopwords = english_stopwords.union(corpus_stopwords)\n",
        "RE_WORD = re.compile(r\"\"\"[\\#\\@\\w](['\\-]?\\w){2,24}\"\"\", re.UNICODE)"
      ],
      "metadata": {
        "id": "jCEEFi2-hoiy"
      },
      "execution_count": null,
      "outputs": []
    },
    {
      "cell_type": "code",
      "source": [
        "def doc_len(text):\n",
        "  ''' Count the frequency of each word in `text` (tf) that is not included in \n",
        "  `all_stopwords` and return entries that will go into our posting lists. \n",
        "  Parameters:\n",
        "  -----------\n",
        "    text: str\n",
        "      Text of one document\n",
        "    id: int\n",
        "      Document id\n",
        "  Returns:\n",
        "  --------\n",
        "    List of tuples\n",
        "      A list of (token, (doc_id, tf)) pairs \n",
        "      for example: [(\"Anarchism\", (12, 5)), ...]\n",
        "  '''\n",
        "  tokens = [token.group() for token in RE_WORD.finditer(text.lower())]\n",
        "  tokens = [token for token in tokens if token not in all_stopwords]\n",
        "  return len(tokens)\n"
      ],
      "metadata": {
        "id": "8kYcO53AhogJ"
      },
      "execution_count": null,
      "outputs": []
    },
    {
      "cell_type": "code",
      "source": [
        "full_path = \"gs://wikidata_preprocessed/*\"\n",
        "parquetFile = spark.read.parquet(full_path)\n",
        "doc_title_text = parquetFile.select(\"id\", \"title\",\"text\").rdd"
      ],
      "metadata": {
        "id": "KAxMuzT3holM"
      },
      "execution_count": null,
      "outputs": []
    },
    {
      "cell_type": "code",
      "source": [
        "doc_title_text = doc_title_text.map(lambda x: (x[0], x[1], doc_len(x[2]))\n",
        "parquetFile.count()"
      ],
      "metadata": {
        "id": "9BujID2ihodm"
      },
      "execution_count": null,
      "outputs": []
    },
    {
      "cell_type": "code",
      "source": [
        "id_name_len = doc_title_text.map(lambda x: (x[0],(x[1],doc_len(x[2]))))\n",
        "id_title_len_dict = id_name_len.collectAsMap()\n",
        "print(list(id_title_len_dict.items())[:100])"
      ],
      "metadata": {
        "id": "zEn0SJwJA1AE"
      },
      "execution_count": null,
      "outputs": []
    },
    {
      "cell_type": "code",
      "source": [
        "import json\n",
        "with open('id_title_len_dict', 'w') as outfile:\n",
        "  json.dump(id_title_len_dict, outfile)"
      ],
      "metadata": {
        "id": "LSPzJjAKhoa8"
      },
      "execution_count": null,
      "outputs": []
    },
    {
      "cell_type": "code",
      "source": [
        "with open('id_title_len_dict') as json_file:\n",
        "    dict_from_json = json.load(json_file)"
      ],
      "metadata": {
        "id": "EJeBgyaChoYX"
      },
      "execution_count": null,
      "outputs": []
    },
    {
      "cell_type": "code",
      "source": [
        "print(list(id_title_len_dict.items())[:100])"
      ],
      "metadata": {
        "id": "4XqJYzwuhoP0"
      },
      "execution_count": null,
      "outputs": []
    },
    {
      "cell_type": "code",
      "source": [
        "index_src = \"id_title_len_dict.json\"\n",
        "index_dst = f'gs://{bucket_name}/doc_info_index/{index_src}'\n",
        "!gsutil cp $index_src $index_dst"
      ],
      "metadata": {
        "id": "v8TFtwDWdQwl"
      },
      "execution_count": null,
      "outputs": []
    },
    {
      "cell_type": "code",
      "source": [
        ""
      ],
      "metadata": {
        "id": "zQExt9sPdQuT"
      },
      "execution_count": null,
      "outputs": []
    },
    {
      "cell_type": "code",
      "source": [
        ""
      ],
      "metadata": {
        "id": "D36xV_R6dQsD"
      },
      "execution_count": null,
      "outputs": []
    },
    {
      "cell_type": "code",
      "source": [
        ""
      ],
      "metadata": {
        "id": "03nX2cL2dQpL"
      },
      "execution_count": null,
      "outputs": []
    }
  ]
}