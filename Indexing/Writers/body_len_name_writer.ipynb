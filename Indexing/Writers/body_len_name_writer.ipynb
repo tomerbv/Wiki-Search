{
  "nbformat": 4,
  "nbformat_minor": 0,
  "metadata": {
    "colab": {
      "name": "body_len_name_writer.ipynb",
      "provenance": [],
      "collapsed_sections": []
    },
    "kernelspec": {
      "name": "python3",
      "display_name": "Python 3"
    },
    "language_info": {
      "name": "python"
    }
  },
  "cells": [
    {
      "cell_type": "code",
      "execution_count": 4,
      "metadata": {
        "colab": {
          "base_uri": "https://localhost:8080/"
        },
        "id": "d25pUFQwrhjB",
        "outputId": "8aaca841-6a8b-4095-c21c-a7a2c2d25b38"
      },
      "outputs": [
        {
          "output_type": "stream",
          "name": "stdout",
          "text": [
            "Drive already mounted at /content/drive; to attempt to forcibly remount, call drive.mount(\"/content/drive\", force_remount=True).\n"
          ]
        }
      ],
      "source": [
        "import pickle\n",
        "from pathlib import Path\n",
        "from collections import Counter\n",
        "import pandas as pd\n",
        "import hashed_index\n",
        "import gzip\n",
        "import csv\n",
        "import time\n",
        "import json\n",
        "from google.colab import drive\n",
        "drive.mount('/content/drive')\n",
        "# !pip install -U featuretools"
      ]
    },
    {
      "cell_type": "code",
      "source": [
        "import importlib\n",
        "importlib.reload(hashed_index)"
      ],
      "metadata": {
        "id": "OjjadM-iruma"
      },
      "execution_count": null,
      "outputs": []
    },
    {
      "cell_type": "markdown",
      "source": [
        "#Page len"
      ],
      "metadata": {
        "id": "3Rb_I9zwsIy3"
      }
    },
    {
      "cell_type": "code",
      "source": [
        "path = 'drive/MyDrive/Test Data/doc_info_index/id_title_len_dict.json'\n",
        "page_len = []\n",
        "with open(path) as json_file:\n",
        "    dict_from_json = json.load(json_file)\n",
        "\n",
        "print(list(dict_from_json.items())[:20])"
      ],
      "metadata": {
        "colab": {
          "base_uri": "https://localhost:8080/"
        },
        "id": "T3Yaxq5LrukM",
        "outputId": "9525bb4f-9174-44bb-ec37-5e907c7a5ac2"
      },
      "execution_count": 5,
      "outputs": [
        {
          "output_type": "stream",
          "name": "stdout",
          "text": [
            "[('4045403', ['Foster Air Force Base', 1517]), ('4045413', ['Torino Palavela', 210]), ('4045419', ['Mad About the Boy', 522]), ('4045426', ['Shayne Breuer', 168]), ('4045432', ['Parantaka I', 631]), ('4045456', ['Arundel (UK Parliament constituency)', 868]), ('4045466', ['Andrew Martinez', 487]), ('4045471', ['Vancouver VooDoo', 398]), ('4045479', ['Invisible plane', 1336]), ('4045516', ['Shopping channel', 121]), ('4045519', ['Turgay (river)', 91]), ('4045523', ['Turgay', 52]), ('4045525', ['Heinrich Johann Nepomuk von Crantz', 166]), ('4045532', ['KUT', 1110]), ('4045544', ['Dodge Cove', 488]), ('4045546', ['Triphone', 26]), ('4045554', ['Government House (Nova Scotia)', 556]), ('4045575', ['Bud Abell', 171]), ('4045577', ['Susette La Flesche', 1014]), ('4045581', ['Pomme de Terre River (Missouri)', 149])]\n"
          ]
        }
      ]
    },
    {
      "cell_type": "code",
      "source": [
        "id_len_list = sorted(list(map(lambda x: (int(x[0]), x[1][1]), dict_from_json.items())),key=lambda x: x[0])\n",
        "id_name_list = sorted(list(map(lambda x: (int(x[0]), x[1][0]), dict_from_json.items())),key=lambda x: x[0])\n",
        "print(id_len_list[:20])\n",
        "print(len(id_len_list))\n",
        "print(id_name_list[:20])\n",
        "print(len(id_name_list))"
      ],
      "metadata": {
        "colab": {
          "base_uri": "https://localhost:8080/"
        },
        "id": "Yhwlbi1Nruh4",
        "outputId": "c81cd107-0462-40eb-c6c8-e0bc89372503"
      },
      "execution_count": 9,
      "outputs": [
        {
          "output_type": "stream",
          "name": "stdout",
          "text": [
            "[(12, 4064), (25, 4125), (39, 1843), (290, 1000), (303, 8088), (305, 4298), (307, 7928), (308, 6030), (309, 1015), (316, 4619), (324, 4339), (330, 248), (332, 233), (334, 676), (336, 3728), (339, 4177), (340, 299), (344, 805), (358, 6584), (359, 2551)]\n",
            "6348910\n",
            "[(12, 'Anarchism'), (25, 'Autism'), (39, 'Albedo'), (290, 'A'), (303, 'Alabama'), (305, 'Achilles'), (307, 'Abraham Lincoln'), (308, 'Aristotle'), (309, 'An American in Paris'), (316, 'Academy Award for Best Production Design'), (324, 'Academy Awards'), (330, 'Actrius'), (332, 'Animalia (book)'), (334, 'International Atomic Time'), (336, 'Altruism'), (339, 'Ayn Rand'), (340, 'Alain Connes'), (344, 'Allan Dwan'), (358, 'Algeria'), (359, 'List of Atlas Shrugged characters')]\n",
            "6348910\n"
          ]
        }
      ]
    },
    {
      "cell_type": "code",
      "source": [
        "hashed_index.write_a_dictionary(id_len_list, 'drive/MyDrive/Test Data/id_len/', 'id_len.pkl' )\n",
        "hashed_index.write_a_dictionary(id_name_list, 'drive/MyDrive/Test Data/id_name/', 'id_name.pkl' )"
      ],
      "metadata": {
        "id": "6DKuxnwzrufr"
      },
      "execution_count": 10,
      "outputs": []
    },
    {
      "cell_type": "code",
      "source": [
        "t = time.time()\n",
        "print(hashed_index.get_value('drive/MyDrive/Test Data/id_len/', 'id_len.pkl', 12))\n",
        "print(hashed_index.get_value('drive/MyDrive/Test Data/id_len/', 'id_len.pkl', 68380237))\n",
        "print(hashed_index.get_value('drive/MyDrive/Test Data/id_len/', 'id_len.pkl', 68380086))\n",
        "print(time.time() - t)\n",
        "\n",
        "t = time.time()\n",
        "print(hashed_index.get_value('drive/MyDrive/Test Data/id_name/', 'id_name.pkl', 12))\n",
        "print(hashed_index.get_value('drive/MyDrive/Test Data/id_name/', 'id_name.pkl', 68380237))\n",
        "print(hashed_index.get_value('drive/MyDrive/Test Data/id_name/', 'id_name.pkl', 68380086))\n",
        "print(time.time() - t)"
      ],
      "metadata": {
        "colab": {
          "base_uri": "https://localhost:8080/"
        },
        "id": "5KVvY8fKruda",
        "outputId": "434c3ddb-1496-400c-d80d-4fae50def961"
      },
      "execution_count": 11,
      "outputs": [
        {
          "output_type": "stream",
          "name": "stdout",
          "text": [
            "4064\n",
            "203\n",
            "115\n",
            "0.06011509895324707\n",
            "Anarchism\n",
            "Ichneutica prismatica\n",
            "Mordecai Jonah Rosenfeld\n",
            "0.06812095642089844\n"
          ]
        }
      ]
    },
    {
      "cell_type": "code",
      "source": [
        ""
      ],
      "metadata": {
        "id": "4QktrE9ArubC"
      },
      "execution_count": null,
      "outputs": []
    },
    {
      "cell_type": "code",
      "source": [
        ""
      ],
      "metadata": {
        "id": "1k8iBNARruYS"
      },
      "execution_count": null,
      "outputs": []
    },
    {
      "cell_type": "code",
      "source": [
        ""
      ],
      "metadata": {
        "id": "6DMLc4j_ruT3"
      },
      "execution_count": null,
      "outputs": []
    }
  ]
}