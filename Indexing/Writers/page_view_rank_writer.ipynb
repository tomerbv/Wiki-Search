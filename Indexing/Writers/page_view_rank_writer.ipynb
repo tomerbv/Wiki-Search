{
  "nbformat": 4,
  "nbformat_minor": 0,
  "metadata": {
    "colab": {
      "name": "page_view_rank_writer.ipynb",
      "provenance": [],
      "collapsed_sections": []
    },
    "kernelspec": {
      "name": "python3",
      "display_name": "Python 3"
    },
    "language_info": {
      "name": "python"
    }
  },
  "cells": [
    {
      "cell_type": "code",
      "source": [
        "import pickle\n",
        "from pathlib import Path\n",
        "from collections import Counter\n",
        "import pandas as pd\n",
        "import gzip\n",
        "import csv\n",
        "import time\n",
        "import hashed_index\n",
        "from google.colab import drive\n",
        "drive.mount('/content/drive')"
      ],
      "metadata": {
        "id": "hr6TUoecmoce",
        "colab": {
          "base_uri": "https://localhost:8080/"
        },
        "outputId": "f7b302d3-1379-4729-af83-b4a4ad6cdfc6"
      },
      "execution_count": null,
      "outputs": [
        {
          "output_type": "stream",
          "name": "stdout",
          "text": [
            "Mounted at /content/drive\n"
          ]
        }
      ]
    },
    {
      "cell_type": "code",
      "source": [
        "import importlib\n",
        "importlib.reload(hashed_index)"
      ],
      "metadata": {
        "colab": {
          "base_uri": "https://localhost:8080/"
        },
        "id": "nL4joaWoV4fk",
        "outputId": "269552ba-3468-409d-dd8c-465449b500d1"
      },
      "execution_count": null,
      "outputs": [
        {
          "output_type": "execute_result",
          "data": {
            "text/plain": [
              "<module 'hashed_index' from '/content/hashed_index.py'>"
            ]
          },
          "metadata": {},
          "execution_count": 2
        }
      ]
    },
    {
      "cell_type": "code",
      "execution_count": null,
      "metadata": {
        "colab": {
          "base_uri": "https://localhost:8080/"
        },
        "id": "6No3YDCymfTI",
        "outputId": "81fa3bb0-eb85-4476-dc7d-7ea686d8e8da"
      },
      "outputs": [
        {
          "output_type": "stream",
          "name": "stdout",
          "text": [
            "pageviews-202108-user.bz2\n",
            "pageviews-202108-user-4dedup.txt\n",
            "pageviews-202108-user.pkl\n",
            "--2022-01-07 16:04:17--  https://dumps.wikimedia.org/other/pageview_complete/monthly/2021/2021-08/pageviews-202108-user.bz2\n",
            "Resolving dumps.wikimedia.org (dumps.wikimedia.org)... 208.80.154.7, 2620:0:861:1:208:80:154:7\n",
            "Connecting to dumps.wikimedia.org (dumps.wikimedia.org)|208.80.154.7|:443... connected.\n",
            "HTTP request sent, awaiting response... 200 OK\n",
            "Length: 2503235912 (2.3G) [application/octet-stream]\n",
            "Saving to: ‘pageviews-202108-user.bz2’\n",
            "\n",
            "pageviews-202108-us 100%[===================>]   2.33G  4.57MB/s    in 9m 1s   \n",
            "\n",
            "2022-01-07 16:13:19 (4.41 MB/s) - ‘pageviews-202108-user.bz2’ saved [2503235912/2503235912]\n",
            "\n"
          ]
        }
      ],
      "source": [
        "# Paths\n",
        "# Using user page views (as opposed to spiders and automated traffic) for the \n",
        "# month of August 2021\n",
        "pv_path = 'https://dumps.wikimedia.org/other/pageview_complete/monthly/2021/2021-08/pageviews-202108-user.bz2'\n",
        "p = Path(pv_path) \n",
        "pv_name = p.name\n",
        "pv_temp = f'{p.stem}-4dedup.txt'\n",
        "pv_clean = f'{p.stem}.pkl'\n",
        "# Download the file (2.3GB) \n",
        "print(pv_name)\n",
        "print(pv_temp)\n",
        "print(pv_clean)\n",
        "\n",
        "\n",
        "!wget -N $pv_path\n",
        "# Filter for English pages, and keep just two fields: article ID (3) and monthly \n",
        "# total number of page views (5). Then, remove lines with article id or page \n",
        "# view values that are not a sequence of digits.\n",
        "!bzcat $pv_name | grep \"^en\\.wikipedia\" | cut -d' ' -f3,5 | grep -P \"^\\d+\\s\\d+$\" > $pv_temp\n",
        "# Create a Counter (dictionary) that sums up the pages views for the same \n",
        "# article, resulting in a mapping from article id to total page views.\n",
        "\n"
      ]
    },
    {
      "cell_type": "code",
      "source": [
        "path = 'drive/MyDrive/archive data/pr.csv.gz'\n",
        "page_rank = {}\n",
        "with gzip.open(path, \"rt\") as csvFile:\n",
        "    csvreader = csv.reader(csvFile)\n",
        "    for row in csvreader:\n",
        "        page_rank.update({int(row[0]) :float(row[1])})\n",
        "\n",
        "print(len(list(page_rank.items())))\n",
        "print(list(page_rank.items())[:100])"
      ],
      "metadata": {
        "colab": {
          "base_uri": "https://localhost:8080/"
        },
        "id": "qWAtNUKgQ_cw",
        "outputId": "6eeedb2d-10fe-4b60-dd8a-a8e7cf9e6b75"
      },
      "execution_count": null,
      "outputs": [
        {
          "output_type": "stream",
          "name": "stdout",
          "text": [
            "6345849\n",
            "[(3434750, 9913.728782160772), (10568, 5385.349263642036), (32927, 5282.081575765276), (30680, 5128.233709604118), (5843419, 4957.56768626387), (68253, 4769.278265355158), (31717, 4486.35018054831), (11867, 4146.4146509127695), (14533, 3996.4664408855015), (645042, 3531.6270898037424), (17867, 3246.0983906041406), (5042916, 2991.9457391661786), (4689264, 2982.324883041747), (14532, 2934.7468292031704), (25391, 2903.5462235134), (5405, 2891.4163291546365), (4764461, 2834.366987332661), (15573, 2783.8651181588375), (9316, 2782.0396464137707), (8569916, 2775.286191840017), (606848, 2773.576318485694), (14653, 2695.4293248287886), (18618239, 2450.113149559415), (19344515, 2347.0140777778715), (26667, 2224.080244382611), (23366462, 2143.5150505664656), (64065, 2127.7638023507975), (22936, 2127.075241657331), (26779, 2116.152456234464), (5407, 2099.6738846846106), (19827221, 2092.451347470643), (43432956, 2085.7409097922214), (679, 2065.030879305207), (61371, 1961.5232748658937), (21148, 1959.6382627292871), (108956, 1933.8225548506437), (3383, 1909.79228608727), (53509, 1792.509387758476), (5058739, 1785.7760128617465), (66633, 1746.4344803403442), (697535, 1736.865696637734), (9239, 1731.7486738439852), (21780446, 1695.76965266053), (3966054, 1671.2044490591957), (19344654, 1631.1946973757874), (38493, 1594.778404082752), (38523, 1590.6698190150744), (26748, 1588.7767695323994), (18110, 1574.2759851317169), (48518, 1568.0084570996466), (4913064, 1554.0302968756175), (26994, 1539.7481188633553), (8210131, 1531.608019810229), (11125639, 1523.7400859726579), (102226, 1502.617117698955), (410219, 1479.091555890126), (17416221, 1459.0393486477726), (10597, 1442.372207753969), (57070, 1431.963418083269), (5043544, 1426.0749280808698), (9317, 1419.9270075820066), (21241, 1403.1786599615355), (525730, 1393.6801192436621), (32070, 1392.3458415540088), (6886, 1371.0925840601465), (5793352, 1368.3315495781617), (273319, 1318.2116662328442), (351656, 1311.6861522374656), (7044, 1304.569416568588), (3343, 1291.3366584665505), (10577, 1290.9837389624179), (56276, 1261.2226174591442), (22112840, 1255.5280602405694), (23440, 1244.5244234283468), (922843, 1240.0806331816086), (31769, 1212.6757002609454), (7429807, 1208.1764129214503), (448160, 1204.781790204434), (25675557, 1203.142897488834), (26964606, 1199.3310585780628), (18951905, 1188.271975993849), (484254, 1186.574508181073), (22218, 1178.5587847754066), (548981, 1174.2057447785974), (11884, 1173.5505503529248), (1139893, 1167.5201059328035), (18309966, 1156.8278961229196), (26825, 1153.0430021303223), (25445, 1140.1074113974198), (18836, 1129.3510072517122), (863, 1128.3077582982467), (173533, 1126.9602356656446), (73199, 1125.440801775347), (76972, 1116.601318916673), (25458, 1114.9829260869244), (3921, 1113.7082982268291), (3354, 1111.8333672874262), (14579, 1110.9551861708671), (18717338, 1109.5767170711788), (27019, 1109.189076706549)]\n"
          ]
        }
      ]
    },
    {
      "cell_type": "code",
      "source": [
        "wid2pv = Counter()\n",
        "with open(pv_temp, 'rt') as f:\n",
        "  for line in f:\n",
        "    parts = line.split(' ')\n",
        "    if int(parts[0]) in page_rank:\n",
        "      wid2pv.update({int(parts[0]): int(parts[1])})\n",
        "\n",
        "print(len(list(wid2pv.items())))\n",
        "print(list(wid2pv.items())[:100])"
      ],
      "metadata": {
        "colab": {
          "base_uri": "https://localhost:8080/"
        },
        "id": "sn9mSid3PzvF",
        "outputId": "7b7ae531-9f16-4395-da8b-9ac49c02db54"
      },
      "execution_count": null,
      "outputs": [
        {
          "output_type": "stream",
          "name": "stdout",
          "text": [
            "6299824\n",
            "[(7712754, 28713), (3632887, 528), (600744, 4285), (59804426, 61650), (4838455, 1450), (4822278, 779), (2556962, 594), (55029148, 123), (16381751, 209), (4700151, 1322), (5840274, 165), (1669534, 6340), (714570, 429), (594417, 7342), (1202168, 8311), (321544, 18535), (8355009, 64), (10936290, 27), (2978668, 288), (2349724, 4248), (4906617, 1997), (8004648, 93), (143804, 273), (1222755, 908), (4077845, 73), (5297162, 333), (1163095, 408), (14876253, 69), (9378013, 79), (6395043, 254), (1729032, 5426), (32566233, 2767), (47197315, 82), (5026730, 242), (221489, 8884), (10558683, 665), (1880521, 6984), (5886374, 1104), (22554980, 99194), (7198790, 391), (5260031, 397), (2597833, 646), (11934775, 54), (40042954, 3854), (3600326, 10684), (810047, 8062), (35473107, 6604), (5345208, 89), (20305346, 4402), (4189233, 424), (41274137, 14502), (712947, 174), (1921683, 344), (24976075, 287), (60432262, 134), (9179902, 30), (6893310, 122), (1283026, 3493), (2222596, 6870), (2516600, 2723), (715483, 579), (2874779, 625), (447585, 1230), (30254618, 133), (37033644, 1556), (719320, 838), (58164345, 121), (1758827, 7448), (34314219, 243), (64779246, 325), (4475056, 1564), (3214009, 657), (7141419, 1247), (1244298, 6998), (160290, 8381), (113023, 9962), (33786545, 1753), (208357, 2895), (22602473, 815), (10890993, 57), (489792, 5166), (8199103, 75), (33744797, 279), (8586861, 104), (14252394, 1662), (34473623, 222), (39531093, 209), (3611536, 126), (13587734, 106), (33897883, 429), (8636840, 55), (905971, 25185), (5467265, 407), (35473106, 8026), (35473105, 9632), (916775, 402), (3477744, 392), (12399541, 46), (12523350, 79), (10980865, 104)]\n"
          ]
        }
      ]
    },
    {
      "cell_type": "markdown",
      "source": [
        "#Write Page View"
      ],
      "metadata": {
        "id": "8YOnM3QYSAqe"
      }
    },
    {
      "cell_type": "code",
      "source": [
        "sort_dic = sorted(list(wid2pv.items()),key=lambda x: x[0])\n",
        "print(sort_dic[:20])\n",
        "print(sort_dic[-20:])\n"
      ],
      "metadata": {
        "id": "0wcMUHjuUNg2",
        "colab": {
          "base_uri": "https://localhost:8080/"
        },
        "outputId": "a291f8d2-b8f7-492c-fabe-65c13675eb84"
      },
      "execution_count": null,
      "outputs": [
        {
          "output_type": "stream",
          "name": "stdout",
          "text": [
            "[(12, 75195), (25, 114746), (39, 24532), (290, 164494), (303, 111033), (305, 135191), (307, 343343), (308, 151041), (309, 2961), (316, 7167), (324, 223758), (330, 39), (332, 1199), (334, 5597), (336, 25818), (339, 126270), (340, 1222), (344, 1158), (358, 168853), (359, 6074)]\n",
            "[(68380086, 32), (68380089, 36), (68380099, 87), (68380119, 363), (68380123, 179), (68380125, 30), (68380130, 39), (68380135, 56), (68380140, 20), (68380154, 11), (68380162, 69), (68380166, 613), (68380168, 70), (68380178, 75), (68380195, 30), (68380200, 27), (68380202, 61), (68380227, 29), (68380232, 8), (68380237, 19)]\n"
          ]
        }
      ]
    },
    {
      "cell_type": "code",
      "source": [
        "hashed_index.write_a_dictionary(sort_dic, 'drive/MyDrive/Test Data/pv/', 'pv' )"
      ],
      "metadata": {
        "id": "fDrO40-IVMmp"
      },
      "execution_count": null,
      "outputs": []
    },
    {
      "cell_type": "code",
      "source": [
        "t = time.time()\n",
        "print(hashed_index.get_value('drive/MyDrive/Test Data/pv/', 'pv', 12))\n",
        "print(hashed_index.get_value('drive/MyDrive/Test Data/pv/', 'pv', 68380086))\n",
        "print(hashed_index.get_value('drive/MyDrive/Test Data/pv/', 'pv', 39))\n",
        "print(time.time() - t)"
      ],
      "metadata": {
        "id": "x-0SsIqyukBm",
        "colab": {
          "base_uri": "https://localhost:8080/"
        },
        "outputId": "7b689a9c-8267-462d-8dc4-03460d8306ed"
      },
      "execution_count": null,
      "outputs": [
        {
          "output_type": "stream",
          "name": "stdout",
          "text": [
            "75195\n",
            "32\n",
            "24532\n",
            "0.012796640396118164\n"
          ]
        }
      ]
    },
    {
      "cell_type": "markdown",
      "source": [
        "#Write Page Rank"
      ],
      "metadata": {
        "id": "24JmzngUSGua"
      }
    },
    {
      "cell_type": "code",
      "source": [
        "sort_dic = sorted(list(page_rank.items()),key=lambda x: x[0])\n",
        "print(sort_dic[:20])\n",
        "print(sort_dic[-20:])\n"
      ],
      "metadata": {
        "id": "tbZPl4qdutNQ",
        "colab": {
          "base_uri": "https://localhost:8080/"
        },
        "outputId": "ba4aad48-3d81-4102-88f7-0fc9efa897c2"
      },
      "execution_count": null,
      "outputs": [
        {
          "output_type": "stream",
          "name": "stdout",
          "text": [
            "[(12, 147.6714763991628), (25, 59.4435917259892), (39, 57.69149567519788), (290, 31.585455099103584), (303, 361.5932155448053), (305, 33.84140049129917), (307, 330.0459897512733), (308, 387.1322776955416), (309, 5.744656933511456), (316, 38.00746342354871), (324, 511.8274888202446), (330, 0.26669471586676635), (332, 4.11009348034522), (334, 21.551690485775747), (336, 31.272780124637023), (339, 36.03576746496808), (340, 3.349857303549437), (344, 6.882272039395503), (358, 483.89327617876563), (359, 0.6127222879316977)]\n",
            "[(68380086, 0.1501208493870428), (68380089, 0.1501208493870428), (68380099, 0.1501208493870428), (68380119, 0.1501208493870428), (68380123, 0.1501208493870428), (68380125, 0.1501208493870428), (68380130, 0.1501208493870428), (68380135, 0.1501208493870428), (68380140, 0.1501208493870428), (68380154, 0.1501208493870428), (68380162, 0.1501208493870428), (68380166, 0.1501208493870428), (68380168, 0.1501208493870428), (68380178, 0.1501208493870428), (68380195, 0.1501208493870428), (68380200, 0.1501208493870428), (68380202, 0.1501208493870428), (68380227, 0.1501208493870428), (68380232, 0.1501208493870428), (68380237, 0.1501208493870428)]\n"
          ]
        }
      ]
    },
    {
      "cell_type": "code",
      "source": [
        "hashed_index.write_a_dictionary(sort_dic, 'drive/MyDrive/Test Data/pr/', 'pr' )"
      ],
      "metadata": {
        "id": "nD67900IVN9z"
      },
      "execution_count": null,
      "outputs": []
    },
    {
      "cell_type": "code",
      "source": [
        "t = time.time()\n",
        "print(hashed_index.get_value('drive/MyDrive/Test Data/pr/', 'pr', 12))\n",
        "print(hashed_index.get_value('drive/MyDrive/Test Data/pr/', 'pr', 68380237))\n",
        "print(hashed_index.get_value('drive/MyDrive/Test Data/pr/', 'pr', 39))\n",
        "print(time.time() - t)"
      ],
      "metadata": {
        "colab": {
          "base_uri": "https://localhost:8080/"
        },
        "id": "qWrPRV3_R5xR",
        "outputId": "8852b386-279c-4c26-816f-c732b318d649"
      },
      "execution_count": null,
      "outputs": [
        {
          "output_type": "stream",
          "name": "stdout",
          "text": [
            "147.6714763991628\n",
            "0.1501208493870428\n",
            "57.69149567519788\n",
            "0.014164447784423828\n"
          ]
        }
      ]
    },
    {
      "cell_type": "code",
      "source": [
        "import os, os.path\n",
        "\n",
        "files = [name for name in os.listdir('drive/MyDrive/Test Data/pr/')]\n",
        "print(len(files))\n",
        "\n",
        "\n",
        "files = [name for name in os.listdir('drive/MyDrive/Test Data/pv/')]\n",
        "print(len(files))"
      ],
      "metadata": {
        "colab": {
          "base_uri": "https://localhost:8080/"
        },
        "id": "S0JFPQ0gaUAh",
        "outputId": "02c1626b-3f9a-45c4-e5c4-f9bbd00d82f9"
      },
      "execution_count": null,
      "outputs": [
        {
          "output_type": "stream",
          "name": "stdout",
          "text": [
            "2521\n",
            "2521\n"
          ]
        }
      ]
    }
  ]
}