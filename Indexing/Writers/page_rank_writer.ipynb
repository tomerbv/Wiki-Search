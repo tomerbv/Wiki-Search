{
  "nbformat": 4,
  "nbformat_minor": 0,
  "metadata": {
    "colab": {
      "name": "page_rank_writer.ipynb",
      "provenance": [],
      "collapsed_sections": []
    },
    "kernelspec": {
      "name": "python3",
      "display_name": "Python 3"
    },
    "language_info": {
      "name": "python"
    }
  },
  "cells": [
    {
      "cell_type": "code",
      "execution_count": null,
      "metadata": {
        "colab": {
          "base_uri": "https://localhost:8080/"
        },
        "id": "P67SjJX9f8Fy",
        "outputId": "a798d97c-d2f1-4e23-a8f3-65169a8358bb"
      },
      "outputs": [
        {
          "output_type": "stream",
          "name": "stdout",
          "text": [
            "Drive already mounted at /content/drive; to attempt to forcibly remount, call drive.mount(\"/content/drive\", force_remount=True).\n"
          ]
        }
      ],
      "source": [
        "import pickle\n",
        "from pathlib import Path\n",
        "from collections import Counter\n",
        "import pandas as pd\n",
        "import hashed_index\n",
        "import gzip\n",
        "import csv\n",
        "import time\n",
        "from google.colab import drive\n",
        "drive.mount('/content/drive')\n",
        "# !pip install -U featuretools"
      ]
    },
    {
      "cell_type": "code",
      "source": [
        "import importlib\n",
        "importlib.reload(hashed_index)"
      ],
      "metadata": {
        "colab": {
          "base_uri": "https://localhost:8080/"
        },
        "id": "-kkRalp0gIGF",
        "outputId": "f2970969-17af-41ee-a76d-f77cf031bf41"
      },
      "execution_count": null,
      "outputs": [
        {
          "output_type": "execute_result",
          "data": {
            "text/plain": [
              "<module 'hashed_index' from '/content/hashed_index.py'>"
            ]
          },
          "metadata": {},
          "execution_count": 31
        }
      ]
    },
    {
      "cell_type": "code",
      "source": [
        "path = 'drive/MyDrive/Test Data/page_rank.csv.gz'\n",
        "page_rank = []\n",
        "with gzip.open(path, \"rt\") as csvFile:\n",
        "    csvreader = csv.reader(csvFile)\n",
        "    for row in csvreader:\n",
        "        page_rank.append((int(row[0]),float(row[1])))\n",
        "\n",
        "print(page_rank[:20])"
      ],
      "metadata": {
        "colab": {
          "base_uri": "https://localhost:8080/"
        },
        "id": "krKSgUCxgIDm",
        "outputId": "072fd981-f599-4d80-b43d-3d098c0a9ea7"
      },
      "execution_count": null,
      "outputs": [
        {
          "output_type": "stream",
          "name": "stdout",
          "text": [
            "[(3434750, 9913.728782160772), (10568, 5385.349263642036), (32927, 5282.081575765276), (30680, 5128.233709604118), (5843419, 4957.56768626387), (68253, 4769.278265355158), (31717, 4486.35018054831), (11867, 4146.4146509127695), (14533, 3996.4664408855015), (645042, 3531.6270898037424), (17867, 3246.0983906041406), (5042916, 2991.9457391661786), (4689264, 2982.324883041747), (14532, 2934.7468292031704), (25391, 2903.5462235134), (5405, 2891.4163291546365), (4764461, 2834.366987332661), (15573, 2783.8651181588375), (9316, 2782.0396464137707), (8569916, 2775.286191840017)]\n"
          ]
        }
      ]
    },
    {
      "cell_type": "code",
      "source": [
        "page_rank = sorted(page_rank, key=lambda x: x[0])\n",
        "print(page_rank[:20])\n",
        "print(page_rank[-20:])"
      ],
      "metadata": {
        "colab": {
          "base_uri": "https://localhost:8080/"
        },
        "id": "MuzsITokgIBN",
        "outputId": "bc6f20cd-8ed4-4af2-b0c2-3a4d9c79a1a5"
      },
      "execution_count": null,
      "outputs": [
        {
          "output_type": "stream",
          "name": "stdout",
          "text": [
            "[(12, 147.6714763991628), (25, 59.4435917259892), (39, 57.69149567519788), (290, 31.585455099103584), (303, 361.5932155448053), (305, 33.84140049129917), (307, 330.0459897512733), (308, 387.1322776955416), (309, 5.744656933511456), (316, 38.00746342354871), (324, 511.8274888202446), (330, 0.26669471586676635), (332, 4.11009348034522), (334, 21.551690485775747), (336, 31.272780124637023), (339, 36.03576746496808), (340, 3.349857303549437), (344, 6.882272039395503), (358, 483.89327617876563), (359, 0.6127222879316977)]\n",
            "[(68380086, 0.1501208493870428), (68380089, 0.1501208493870428), (68380099, 0.1501208493870428), (68380119, 0.1501208493870428), (68380123, 0.1501208493870428), (68380125, 0.1501208493870428), (68380130, 0.1501208493870428), (68380135, 0.1501208493870428), (68380140, 0.1501208493870428), (68380154, 0.1501208493870428), (68380162, 0.1501208493870428), (68380166, 0.1501208493870428), (68380168, 0.1501208493870428), (68380178, 0.1501208493870428), (68380195, 0.1501208493870428), (68380200, 0.1501208493870428), (68380202, 0.1501208493870428), (68380227, 0.1501208493870428), (68380232, 0.1501208493870428), (68380237, 0.1501208493870428)]\n"
          ]
        }
      ]
    },
    {
      "cell_type": "code",
      "source": [
        "hashed_index.write_a_dictionary(page_rank, 'drive/MyDrive/Test Data/pr/', 'pr.pkl' )"
      ],
      "metadata": {
        "id": "wIlm27fVgH-a"
      },
      "execution_count": null,
      "outputs": []
    },
    {
      "cell_type": "code",
      "source": [
        "t = time.time()\n",
        "print(hashed_index.get_value('drive/MyDrive/Test Data/pr/', 'pr.pkl', 12))\n",
        "print(hashed_index.get_value('drive/MyDrive/Test Data/pr/', 'pr.pkl', 68380237))\n",
        "print(hashed_index.get_value('drive/MyDrive/Test Data/pr/', 'pr.pkl', 68380086))\n",
        "print(time.time() - t)"
      ],
      "metadata": {
        "colab": {
          "base_uri": "https://localhost:8080/"
        },
        "id": "YufbQhgKgH5f",
        "outputId": "a8ca9e26-175b-4624-f6dd-28c91af078ac"
      },
      "execution_count": null,
      "outputs": [
        {
          "output_type": "stream",
          "name": "stdout",
          "text": [
            "147.6714763991628\n",
            "0.1501208493870428\n",
            "0.1501208493870428\n",
            "0.06342244148254395\n"
          ]
        }
      ]
    },
    {
      "cell_type": "code",
      "source": [
        ""
      ],
      "metadata": {
        "id": "gyxC3UCKgH26"
      },
      "execution_count": null,
      "outputs": []
    },
    {
      "cell_type": "code",
      "source": [
        ""
      ],
      "metadata": {
        "id": "d7Qy7ODLgH0b"
      },
      "execution_count": null,
      "outputs": []
    },
    {
      "cell_type": "code",
      "source": [
        ""
      ],
      "metadata": {
        "id": "H6COeZPOgHx0"
      },
      "execution_count": null,
      "outputs": []
    }
  ]
}