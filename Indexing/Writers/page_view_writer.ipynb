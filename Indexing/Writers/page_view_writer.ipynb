{
  "nbformat": 4,
  "nbformat_minor": 0,
  "metadata": {
    "colab": {
      "name": "page_view_writer.ipynb",
      "provenance": [],
      "collapsed_sections": []
    },
    "kernelspec": {
      "name": "python3",
      "display_name": "Python 3"
    },
    "language_info": {
      "name": "python"
    }
  },
  "cells": [
    {
      "cell_type": "code",
      "source": [
        "import pickle\n",
        "from pathlib import Path\n",
        "from collections import Counter\n",
        "import pandas as pd\n",
        "import hashed_index\n",
        "from google.colab import drive\n",
        "drive.mount('/content/drive')"
      ],
      "metadata": {
        "id": "hr6TUoecmoce",
        "colab": {
          "base_uri": "https://localhost:8080/"
        },
        "outputId": "6da9f3c4-e944-47b7-8f61-c92ed18c7210"
      },
      "execution_count": null,
      "outputs": [
        {
          "output_type": "stream",
          "name": "stdout",
          "text": [
            "Mounted at /content/drive\n"
          ]
        }
      ]
    },
    {
      "cell_type": "code",
      "source": [
        "import importlib\n",
        "importlib.reload(hashed_index)"
      ],
      "metadata": {
        "colab": {
          "base_uri": "https://localhost:8080/"
        },
        "id": "nL4joaWoV4fk",
        "outputId": "a56c43d1-acb2-48c5-f5e6-2da9b2afed1d"
      },
      "execution_count": 45,
      "outputs": [
        {
          "output_type": "execute_result",
          "data": {
            "text/plain": [
              "<module 'hashed_index' from '/content/hashed_index.py'>"
            ]
          },
          "metadata": {},
          "execution_count": 45
        }
      ]
    },
    {
      "cell_type": "code",
      "execution_count": null,
      "metadata": {
        "colab": {
          "base_uri": "https://localhost:8080/"
        },
        "id": "6No3YDCymfTI",
        "outputId": "cbc9a5fb-8dfd-4ace-8fe2-5cde6a40e9d7"
      },
      "outputs": [
        {
          "output_type": "stream",
          "name": "stdout",
          "text": [
            "pageviews-202108-user.bz2\n",
            "pageviews-202108-user-4dedup.txt\n",
            "pageviews-202108-user.pkl\n",
            "--2022-01-06 11:56:27--  https://dumps.wikimedia.org/other/pageview_complete/monthly/2021/2021-08/pageviews-202108-user.bz2\n",
            "Resolving dumps.wikimedia.org (dumps.wikimedia.org)... 208.80.154.7, 2620:0:861:1:208:80:154:7\n",
            "Connecting to dumps.wikimedia.org (dumps.wikimedia.org)|208.80.154.7|:443... connected.\n",
            "HTTP request sent, awaiting response... 200 OK\n",
            "Length: 2503235912 (2.3G) [application/octet-stream]\n",
            "Saving to: ‘pageviews-202108-user.bz2’\n",
            "\n",
            "pageviews-202108-us 100%[===================>]   2.33G  4.35MB/s    in 9m 27s  \n",
            "\n",
            "2022-01-06 12:05:54 (4.21 MB/s) - ‘pageviews-202108-user.bz2’ saved [2503235912/2503235912]\n",
            "\n"
          ]
        }
      ],
      "source": [
        "# Paths\n",
        "# Using user page views (as opposed to spiders and automated traffic) for the \n",
        "# month of August 2021\n",
        "pv_path = 'https://dumps.wikimedia.org/other/pageview_complete/monthly/2021/2021-08/pageviews-202108-user.bz2'\n",
        "p = Path(pv_path) \n",
        "pv_name = p.name\n",
        "pv_temp = f'{p.stem}-4dedup.txt'\n",
        "pv_clean = f'{p.stem}.pkl'\n",
        "# Download the file (2.3GB) \n",
        "print(pv_name)\n",
        "print(pv_temp)\n",
        "print(pv_clean)\n",
        "\n",
        "\n",
        "!wget -N $pv_path\n",
        "# Filter for English pages, and keep just two fields: article ID (3) and monthly \n",
        "# total number of page views (5). Then, remove lines with article id or page \n",
        "# view values that are not a sequence of digits.\n",
        "!bzcat $pv_name | grep \"^en\\.wikipedia\" | cut -d' ' -f3,5 | grep -P \"^\\d+\\s\\d+$\" > $pv_temp\n",
        "# Create a Counter (dictionary) that sums up the pages views for the same \n",
        "# article, resulting in a mapping from article id to total page views.\n",
        "\n"
      ]
    },
    {
      "cell_type": "code",
      "source": [
        "wid2pv = Counter()\n",
        "with open(pv_temp, 'rt') as f:\n",
        "  for line in f:\n",
        "    parts = line.split(' ')\n",
        "    wid2pv.update({int(parts[0]): int(parts[1])})\n",
        "\n",
        "print(len(list(wid2pv.items())))\n",
        "print(list(wid2pv.items())[:100])"
      ],
      "metadata": {
        "colab": {
          "base_uri": "https://localhost:8080/"
        },
        "id": "sn9mSid3PzvF",
        "outputId": "2603fada-ca06-490e-b441-b2a904760d51"
      },
      "execution_count": 46,
      "outputs": [
        {
          "output_type": "stream",
          "name": "stdout",
          "text": [
            "10771932\n",
            "[(5878274, 52), (7712754, 28713), (3632887, 528), (600744, 4285), (59804426, 61650), (63743203, 23), (34443176, 7), (4838455, 1450), (11011780, 9), (4822278, 779), (34443184, 4), (2556962, 594), (59827823, 1), (59827819, 2), (39401265, 1), (10065458, 6), (55029148, 123), (61082890, 1), (16381751, 209), (55029832, 4), (16789001, 2), (4700151, 1322), (53802835, 2), (5840274, 165), (1669534, 6340), (5835176, 3), (36372278, 2), (714570, 429), (35277272, 1), (712986, 1), (594417, 7342), (63079087, 3), (1202168, 8311), (2122994, 1), (321544, 18535), (918987, 1), (6449075, 1), (16645718, 4), (8355009, 64), (54365640, 4), (1669616, 4), (10936290, 27), (16491695, 4), (2978668, 288), (16395685, 2), (2349724, 4248), (16563299, 1), (4906617, 1997), (16389493, 2), (8004648, 93), (143804, 273), (1222755, 908), (16245639, 3), (16237771, 1), (4077845, 73), (16583252, 3), (5297162, 333), (1163095, 408), (14876253, 69), (16222834, 1), (9378013, 79), (16500046, 2), (6395043, 254), (1729032, 5426), (58269093, 4), (32566233, 2767), (16294227, 7), (47197315, 82), (55077702, 1), (16296343, 2), (5026730, 242), (16545229, 2), (221489, 8884), (10558683, 665), (16299641, 2), (16520452, 2), (1880521, 6984), (5886374, 1104), (8103642, 3), (22554980, 99194), (52132228, 3), (45084477, 2), (16372723, 1), (7198790, 391), (5260031, 397), (16612592, 2), (2597833, 646), (11934775, 54), (16362777, 2), (16450634, 1), (40042954, 3854), (3600326, 10684), (810047, 8062), (35473107, 6604), (16485008, 1), (5345208, 89), (20305346, 4402), (16389216, 1), (4189233, 424), (16449025, 1)]\n"
          ]
        }
      ]
    },
    {
      "cell_type": "code",
      "source": [
        "sort_dic = sorted(list(wid2pv.items()),key=lambda x: x[0])\n",
        "print(sort_dic[:20])\n",
        "print(sort_dic[-20:])\n",
        "hashed_index.write_a_dictionary(sort_dic, 'drive/MyDrive/Test Data/pv/', 'pv.pkl' )"
      ],
      "metadata": {
        "id": "0wcMUHjuUNg2",
        "colab": {
          "base_uri": "https://localhost:8080/"
        },
        "outputId": "494b894b-a1b3-45b8-a83e-bce3c3d6f7da"
      },
      "execution_count": 47,
      "outputs": [
        {
          "output_type": "stream",
          "name": "stdout",
          "text": [
            "[(10, 110), (12, 75195), (13, 6), (14, 3), (15, 1), (19, 1), (20, 2), (21, 1), (23, 1), (25, 114746), (27, 7), (29, 1), (30, 1), (36, 1), (39, 24532), (40, 1), (42, 3), (46, 3), (50, 2), (52, 1)]\n",
            "[(68616009, 1), (68616010, 1), (68616011, 2), (68616012, 4), (68616014, 1), (68616015, 2), (68616016, 1), (68616017, 20), (68616019, 1), (68616020, 1), (68616021, 1), (68616022, 3), (68616023, 5), (68616024, 1), (68616025, 1), (68616027, 3), (68616030, 1), (68616031, 1), (68616033, 2), (68616034, 1)]\n"
          ]
        }
      ]
    },
    {
      "cell_type": "code",
      "source": [
        "import time\n",
        "t = time.time()\n",
        "print(hashed_index.get_value('drive/MyDrive/Test Data/pv/', 'pv.pkl', 12))\n",
        "print(hashed_index.get_value('drive/MyDrive/Test Data/pv/', 'pv.pkl', 68616034))\n",
        "print(hashed_index.get_value('drive/MyDrive/Test Data/pv/', 'pv.pkl', 39))\n",
        "print(time.time() - t)"
      ],
      "metadata": {
        "id": "x-0SsIqyukBm",
        "colab": {
          "base_uri": "https://localhost:8080/"
        },
        "outputId": "f5c4f609-30d9-4ea5-b3ae-4224265078de"
      },
      "execution_count": 48,
      "outputs": [
        {
          "output_type": "stream",
          "name": "stdout",
          "text": [
            "75195\n",
            "1\n",
            "24532\n",
            "0.13550472259521484\n"
          ]
        }
      ]
    },
    {
      "cell_type": "code",
      "source": [
        ""
      ],
      "metadata": {
        "id": "tbZPl4qdutNQ"
      },
      "execution_count": null,
      "outputs": []
    }
  ]
}