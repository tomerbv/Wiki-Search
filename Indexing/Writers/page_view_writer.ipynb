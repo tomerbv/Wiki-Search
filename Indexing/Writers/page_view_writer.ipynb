{
  "nbformat": 4,
  "nbformat_minor": 0,
  "metadata": {
    "colab": {
      "name": "page_view_writer.ipynb",
      "provenance": [],
      "collapsed_sections": []
    },
    "kernelspec": {
      "name": "python3",
      "display_name": "Python 3"
    },
    "language_info": {
      "name": "python"
    }
  },
  "cells": [
    {
      "cell_type": "code",
      "source": [
        "import pickle\n",
        "from pathlib import Path\n",
        "from collections import Counter\n",
        "import pandas as pd"
      ],
      "metadata": {
        "id": "hr6TUoecmoce"
      },
      "execution_count": 11,
      "outputs": []
    },
    {
      "cell_type": "code",
      "execution_count": 6,
      "metadata": {
        "colab": {
          "base_uri": "https://localhost:8080/"
        },
        "id": "6No3YDCymfTI",
        "outputId": "ef07c631-a932-4373-ed2e-42be9cc5704d"
      },
      "outputs": [
        {
          "output_type": "stream",
          "name": "stdout",
          "text": [
            "pageviews-202108-user.bz2\n",
            "pageviews-202108-user-4dedup.txt\n",
            "pageviews-202108-user.pkl\n"
          ]
        }
      ],
      "source": [
        "# Paths\n",
        "# Using user page views (as opposed to spiders and automated traffic) for the \n",
        "# month of August 2021\n",
        "pv_path = 'https://dumps.wikimedia.org/other/pageview_complete/monthly/2021/2021-08/pageviews-202108-user.bz2'\n",
        "p = Path(pv_path) \n",
        "pv_name = p.name\n",
        "pv_temp = f'{p.stem}-4dedup.txt'\n",
        "pv_clean = f'{p.stem}.pkl'\n",
        "# Download the file (2.3GB) \n",
        "print(pv_name)\n",
        "print(pv_temp)\n",
        "print(pv_clean)\n",
        "\n",
        "\n",
        "# !wget -N $pv_path\n",
        "# # Filter for English pages, and keep just two fields: article ID (3) and monthly \n",
        "# # total number of page views (5). Then, remove lines with article id or page \n",
        "# # view values that are not a sequence of digits.\n",
        "# !bzcat $pv_name | grep \"^en\\.wikipedia\" | cut -d' ' -f3,5 | grep -P \"^\\d+\\s\\d+$\" > $pv_temp\n",
        "# Create a Counter (dictionary) that sums up the pages views for the same \n",
        "# article, resulting in a mapping from article id to total page views.\n",
        "wid2pv = Counter()\n",
        "with open(pv_temp, 'rt') as f:\n",
        "  for line in f:\n",
        "    parts = line.split(' ')\n",
        "    wid2pv.update({int(parts[0]): int(parts[1])})\n",
        "# write out the counter as binary file (pickle it)\n",
        "with open(pv_clean, 'wb') as f:\n",
        "  pickle.dump(wid2pv, f)"
      ]
    },
    {
      "cell_type": "code",
      "source": [
        "# read in the counter\n",
        "with open(pv_clean, 'rb') as f:\n",
        "  wid2pv = pickle.loads(f.read())\n"
      ],
      "metadata": {
        "id": "x-0SsIqyukBm"
      },
      "execution_count": 8,
      "outputs": []
    },
    {
      "cell_type": "code",
      "source": [
        "data_items = wid2pv.items()\n",
        "data_list = list(data_items)[:20]\n",
        "df = pd.DataFrame(data_list)\n",
        "print(df)\n"
      ],
      "metadata": {
        "colab": {
          "base_uri": "https://localhost:8080/"
        },
        "id": "tbZPl4qdutNQ",
        "outputId": "e6354944-2171-4ec4-bbd7-c7afee5a4dac"
      },
      "execution_count": 14,
      "outputs": [
        {
          "output_type": "stream",
          "name": "stdout",
          "text": [
            "           0      1\n",
            "0    5878274     52\n",
            "1    7712754  28713\n",
            "2    3632887    528\n",
            "3     600744   4285\n",
            "4   59804426  61650\n",
            "5   63743203     23\n",
            "6   34443176      7\n",
            "7    4838455   1450\n",
            "8   11011780      9\n",
            "9    4822278    779\n",
            "10  34443184      4\n",
            "11   2556962    594\n",
            "12  59827823      1\n",
            "13  59827819      2\n",
            "14  39401265      1\n",
            "15  10065458      6\n",
            "16  55029148    123\n",
            "17  61082890      1\n",
            "18  16381751    209\n",
            "19  55029832      4\n"
          ]
        }
      ]
    }
  ]
}