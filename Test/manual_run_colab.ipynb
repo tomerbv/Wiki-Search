{
  "nbformat": 4,
  "nbformat_minor": 0,
  "metadata": {
    "colab": {
      "name": "manual_run_colab.ipynb",
      "provenance": [],
      "collapsed_sections": []
    },
    "kernelspec": {
      "name": "python3",
      "display_name": "Python 3"
    },
    "language_info": {
      "name": "python"
    }
  },
  "cells": [
    {
      "cell_type": "code",
      "execution_count": 1,
      "metadata": {
        "id": "622v-AVkywSW",
        "colab": {
          "base_uri": "https://localhost:8080/"
        },
        "outputId": "6c672040-4d4a-4a47-a54b-46e677dab2d9"
      },
      "outputs": [
        {
          "output_type": "stream",
          "name": "stdout",
          "text": [
            "[nltk_data] Downloading package stopwords to /root/nltk_data...\n",
            "[nltk_data]   Unzipping corpora/stopwords.zip.\n",
            "Collecting wikipedia\n",
            "  Downloading wikipedia-1.4.0.tar.gz (27 kB)\n",
            "Requirement already satisfied: beautifulsoup4 in /usr/local/lib/python3.7/dist-packages (from wikipedia) (4.6.3)\n",
            "Requirement already satisfied: requests<3.0.0,>=2.0.0 in /usr/local/lib/python3.7/dist-packages (from wikipedia) (2.23.0)\n",
            "Requirement already satisfied: chardet<4,>=3.0.2 in /usr/local/lib/python3.7/dist-packages (from requests<3.0.0,>=2.0.0->wikipedia) (3.0.4)\n",
            "Requirement already satisfied: certifi>=2017.4.17 in /usr/local/lib/python3.7/dist-packages (from requests<3.0.0,>=2.0.0->wikipedia) (2021.10.8)\n",
            "Requirement already satisfied: urllib3!=1.25.0,!=1.25.1,<1.26,>=1.21.1 in /usr/local/lib/python3.7/dist-packages (from requests<3.0.0,>=2.0.0->wikipedia) (1.24.3)\n",
            "Requirement already satisfied: idna<3,>=2.5 in /usr/local/lib/python3.7/dist-packages (from requests<3.0.0,>=2.0.0->wikipedia) (2.10)\n",
            "Building wheels for collected packages: wikipedia\n",
            "  Building wheel for wikipedia (setup.py) ... \u001b[?25l\u001b[?25hdone\n",
            "  Created wheel for wikipedia: filename=wikipedia-1.4.0-py3-none-any.whl size=11696 sha256=4e8f0a80afe00a05f8690edf1101f10ef22c293cbf30f0aca10c08caf4e5ee9a\n",
            "  Stored in directory: /root/.cache/pip/wheels/15/93/6d/5b2c68b8a64c7a7a04947b4ed6d89fb557dcc6bc27d1d7f3ba\n",
            "Successfully built wikipedia\n",
            "Installing collected packages: wikipedia\n",
            "Successfully installed wikipedia-1.4.0\n"
          ]
        }
      ],
      "source": [
        "import nltk\n",
        "nltk.download('stopwords')\n",
        "!pip install wikipedia"
      ]
    },
    {
      "cell_type": "code",
      "source": [
        "from google.colab import drive\n",
        "drive.mount('/content/drive')"
      ],
      "metadata": {
        "colab": {
          "base_uri": "https://localhost:8080/"
        },
        "id": "ltlogIte0BS9",
        "outputId": "8db6d91d-4143-4848-ce8f-e517cd5a6cc2"
      },
      "execution_count": 2,
      "outputs": [
        {
          "output_type": "stream",
          "name": "stdout",
          "text": [
            "Mounted at /content/drive\n"
          ]
        }
      ]
    },
    {
      "cell_type": "code",
      "source": [
        "import manual_test_search as mts"
      ],
      "metadata": {
        "id": "uzLchno6zQRl"
      },
      "execution_count": 2,
      "outputs": []
    },
    {
      "cell_type": "code",
      "source": [
        "# uncomment the code below and execute to reload the module when you make \n",
        "# changes to search_frontend.py (after you upload again).\n",
        "import importlib\n",
        "importlib.reload(mts)"
      ],
      "metadata": {
        "colab": {
          "base_uri": "https://localhost:8080/"
        },
        "id": "RFGojnMk4rrT",
        "outputId": "017c2817-4269-45cd-c2c7-4be1306f35cc"
      },
      "execution_count": 4,
      "outputs": [
        {
          "output_type": "execute_result",
          "data": {
            "text/plain": [
              "<module 'manual_test_search' from '/content/manual_test_search.py'>"
            ]
          },
          "metadata": {},
          "execution_count": 4
        }
      ]
    },
    {
      "cell_type": "code",
      "source": [
        "def average_precision(true_list, predicted_list, k=40):\n",
        "    true_set = frozenset(true_list)\n",
        "    predicted_list = predicted_list[:k]\n",
        "    precisions = []\n",
        "    for i,doc_id in enumerate(predicted_list):        \n",
        "        if doc_id in true_set:\n",
        "            prec = (len(precisions)+1) / (i+1)            \n",
        "            precisions.append(prec)\n",
        "    if len(precisions) == 0:\n",
        "        return 0.0\n",
        "    return round(sum(precisions)/len(precisions),3)"
      ],
      "metadata": {
        "id": "G3TLTG2vzQPJ"
      },
      "execution_count": 5,
      "outputs": []
    },
    {
      "cell_type": "code",
      "source": [
        "from time import time\n",
        "t_start = time()\n",
        "\n",
        "query = \"yoga\"\n",
        "\n",
        "res_title = mts.search_title(query)\n",
        "print(res_title)\n",
        "\n",
        "res_anchor = mts.search_anchor(query)\n",
        "print(res_anchor)\n",
        "\n",
        "ids = list(map(lambda x: x[0], res_title))\n",
        "page_rank = mts.get_pagerank(ids)\n",
        "print(page_rank)\n",
        "\n",
        "page_view = mts.get_pageview(ids)\n",
        "print(page_view)\n",
        "\n",
        "duration = time() - t_start\n",
        "print(duration)"
      ],
      "metadata": {
        "id": "AzaF335xzQM0",
        "colab": {
          "base_uri": "https://localhost:8080/"
        },
        "outputId": "8ce708a0-bfaa-4903-f030-f0e5249eb23e"
      },
      "execution_count": 11,
      "outputs": [
        {
          "output_type": "stream",
          "name": "stdout",
          "text": [
            "[(34258, 'Yoga'), (38424, 'Bikram Yoga'), (92222, 'Kundalini yoga'), (196789, 'Iyengar Yoga'), (315141, 'Hatha yoga'), (359983, 'Bhakti yoga'), (419015, 'Ashtanga vinyasa yoga'), (626718, 'Yoga Sutras of Patanjali'), (666420, 'Sahaja Yoga'), (734272, 'Kriya Yoga'), (744158, 'Jnana yoga'), (988753, 'Yoga nidra'), (1017009, 'Surat Shabd Yoga'), (1226448, 'Hatha Yoga Pradipika'), (1381751, 'Karma yoga'), (1652601, 'List of yoga schools'), (1775374, 'Anusara School of Hatha Yoga'), (1817874, 'Integral yoga'), (3127300, 'Yoga as therapy'), (4242777, 'Raja Yoga (book)'), (4523354, 'Lilias, Yoga and You'), (6154795, 'Sivananda yoga'), (6931929, 'Pranava yoga'), (7343803, 'Eight Lectures on Yoga'), (7702313, 'Yoga Vasistha'), (9042644, 'Bando yoga'), (10671559, 'Himalayan Institute of Yoga Science and Philosophy'), (11487904, 'Yoga Korunta'), (13412771, 'Yoga mat'), (13936750, 'Dream yoga'), (16488467, 'Yoga Lin'), (18911094, 'Yin Yoga'), (23834216, 'Agni Yoga'), (28848113, 'Yoga Hakwon'), (29828807, 'Paddleboard Yoga'), (31793047, 'Power Yoga'), (32016617, 'Hot yoga'), (34756533, 'The Yoga Institute'), (34843274, 'Lenovo Yoga'), (35795560, 'Drishti (yoga)'), (36991237, 'Yoga (Hindu astrology)'), (41757168, 'Laughter yoga'), (43562594, 'Aerial yoga'), (43611227, 'Yoga Hosers'), (44035836, 'Yoga Alliance'), (44270128, 'International Day of Yoga'), (45482242, 'Copyright claims on Bikram Yoga'), (46719542, 'Kung Fu Yoga'), (47035547, 'Yoga (philosophy)'), (47586513, 'Integral Yoga (Satchidananda)'), (49278248, 'Yoga Upanishads'), (53087254, 'British Wheel of Yoga'), (58520592, 'Trauma-sensitive yoga'), (59052395, 'Light on Yoga'), (59516988, 'Modern yoga'), (59580357, 'Yoga as exercise'), (59899027, 'Yoga Body'), (60199413, 'Selling Yoga'), (60300514, 'The Path of Modern Yoga'), (60310807, 'Yoga for women'), (60468426, 'Mindful Yoga'), (60500106, 'Restorative Yoga'), (60705564, 'Yoga teacher training'), (60805249, 'Early modern yoga'), (60823333, 'Roots of Yoga'), (60851303, 'Ashtanga (eight limbs of yoga)'), (60992198, 'Yoga in the United States'), (61285582, 'Positioning Yoga'), (61583621, 'Science of yoga'), (61690747, 'Yoga in Germany'), (62342792, 'Yoga in Russia'), (62549131, 'Yoga in Italy'), (62557135, 'Yoga in Sweden'), (63090179, 'Kemetic yoga'), (66018807, 'Yoga using props')]\n",
            "[(34258, 'Yoga'), (59580357, 'Yoga as exercise'), (1652601, 'List of yoga schools'), (315141, 'Hatha yoga'), (621809, 'Asana'), (3127300, 'Yoga as therapy'), (196789, 'Iyengar Yoga'), (1041815, 'Tirumalai Krishnamacharya'), (62342792, 'Yoga in Russia'), (59516988, 'Modern yoga'), (418999, 'K. Pattabhi Jois'), (419015, 'Ashtanga vinyasa yoga'), (59052395, 'Light on Yoga'), (13412771, 'Yoga mat'), (6154795, 'Sivananda yoga'), (62557135, 'Yoga in Sweden'), (585681, 'B. K. S. Iyengar'), (744158, 'Jnana yoga'), (4242777, 'Raja Yoga (book)'), (61583621, 'Science of yoga'), (92222, 'Kundalini yoga'), (626718, 'Yoga Sutras of Patanjali'), (1632919, 'List of asanas'), (47586513, 'Integral Yoga (Satchidananda)'), (61690747, 'Yoga in Germany'), (6933106, 'Tibetan tantric practice'), (632990, 'Pranayama'), (47035547, 'Yoga (philosophy)'), (734272, 'Kriya Yoga'), (1817874, 'Integral yoga'), (29828807, 'Paddleboard Yoga'), (1381751, 'Karma yoga'), (11487904, 'Yoga Korunta'), (66018807, 'Yoga using props'), (17452177, 'Acroyoga'), (359983, 'Bhakti yoga'), (1017009, 'Surat Shabd Yoga'), (1661867, 'Mysore style'), (4523354, 'Lilias, Yoga and You'), (59899027, 'Yoga Body'), (83742, 'Yogi'), (988753, 'Yoga nidra'), (1226448, 'Hatha Yoga Pradipika'), (1775374, 'Anusara School of Hatha Yoga'), (53087254, 'British Wheel of Yoga'), (38424, 'Bikram Yoga'), (666420, 'Sahaja Yoga'), (498076, 'Bondage positions and methods'), (3965223, 'Kripalu Center'), (6931929, 'Pranava yoga'), (9042644, 'Bando yoga'), (10671559, 'Himalayan Institute of Yoga Science and Philosophy'), (62549131, 'Yoga in Italy'), (16899, 'Kareem Abdul-Jabbar'), (1890951, 'Cleavage (breasts)'), (13936750, 'Dream yoga'), (28848113, 'Yoga Hakwon'), (56289572, 'Bruce Banner (Marvel Cinematic Universe)')]\n",
            "[(34258, 83.99594185114452), (626718, 16.272385307418006), (59580357, 9.456049814722032), (315141, 8.380580114251693), (47035547, 8.110208960452965), (359983, 7.750640055655359), (744158, 6.287814772813478), (1381751, 5.515282580218199), (7702313, 4.07818400879266), (1226448, 3.8541864237844825), (419015, 3.7306055485087066), (92222, 2.9706761576783296), (734272, 2.6741742356334357), (59052395, 2.4468540989952863), (44270128, 1.9264666270245103), (59516988, 1.794034714212164), (196789, 1.7393116070195946), (60851303, 1.7221327530291792), (3127300, 1.7119619064849603), (13936750, 1.6057354636889725), (988753, 1.5754013326136505), (1017009, 1.536312388071232), (60823333, 1.339436853232821), (10671559, 1.2298296249395182), (38424, 1.2218084388647872), (6154795, 1.2202916730566307), (23834216, 1.1245083820805093), (16488467, 1.1109536923441017), (1817874, 1.0451630727070935), (60199413, 1.0448725233518887), (60705564, 0.9898932608854056), (666420, 0.9889623247660853), (34843274, 0.7915347638549548), (43611227, 0.7612842581384013), (60310807, 0.7481196248652782), (60992198, 0.6928982299460698), (4242777, 0.688704442067177), (36991237, 0.6870763288832911), (46719542, 0.6674713780878285), (60468426, 0.6470973513575206), (66018807, 0.6245381262786562), (41757168, 0.5851351716280824), (49278248, 0.5711540659040112), (31793047, 0.5457835440994311), (1652601, 0.5441212683365539), (59899027, 0.5324222173172197), (18911094, 0.47042904830792054), (13412771, 0.4481090455515063), (34756533, 0.4382504777796823), (35795560, 0.43513564344440264), (32016617, 0.412917242866538), (58520592, 0.39737571428928004), (47586513, 0.39678553223255353), (60300514, 0.38807278685556934), (29828807, 0.3450329436009195), (1775374, 0.3428634924946983), (44035836, 0.3294475349785746), (11487904, 0.3257878522785044), (53087254, 0.31556753548463173), (45482242, 0.30712398071631397), (28848113, 0.2921208887301777), (61583621, 0.2627756642719119), (60500106, 0.25671910764553335), (43562594, 0.24220506791327245), (4523354, 0.23638409082862197), (7343803, 0.2250816935602714), (9042644, 0.22290023978192416), (61285582, 0.22155053651253373), (6931929, 0.21194713245493485), (61690747, 0.19411831756743758), (62342792, 0.1848495199294247), (62557135, 0.18280927962899968), (62549131, 0.16401243164377063), (63090179, 0.15541476130976734), (60805249, 0.1501208493870428)]\n",
            "[(34258, 80260), (626718, 24350), (315141, 24309), (60851303, 22388), (43611227, 22118), (734272, 19795), (92222, 17410), (419015, 16266), (46719542, 15523), (988753, 14796), (1381751, 11403), (38424, 10675), (44270128, 10425), (18911094, 8427), (359983, 8043), (196789, 7806), (744158, 7627), (59580357, 7586), (32016617, 6509), (47035547, 5847), (34843274, 5773), (7702313, 5708), (1226448, 4850), (1817874, 3783), (666420, 3693), (13936750, 2943), (4242777, 2531), (43562594, 2328), (23834216, 2092), (1017009, 2012), (59516988, 1831), (6154795, 1828), (41757168, 1639), (16488467, 1504), (13412771, 1498), (61583621, 1489), (3127300, 1376), (31793047, 1334), (59052395, 1244), (34756533, 1163), (35795560, 1054), (6931929, 963), (60500106, 941), (63090179, 922), (1652601, 908), (60992198, 843), (49278248, 825), (60468426, 724), (1775374, 720), (60310807, 705), (44035836, 674), (58520592, 656), (4523354, 607), (60705564, 585), (36991237, 582), (47586513, 560), (10671559, 553), (28848113, 522), (66018807, 449), (11487904, 408), (60823333, 380), (29828807, 338), (7343803, 268), (62342792, 241), (45482242, 215), (59899027, 213), (60199413, 190), (61690747, 184), (60300514, 133), (62557135, 132), (53087254, 120), (61285582, 61), (9042644, 60), (62549131, 59), (60805249, 54)]\n",
            "32.9642288684845\n"
          ]
        }
      ]
    },
    {
      "cell_type": "code",
      "source": [
        ""
      ],
      "metadata": {
        "id": "Ugu7pi1_zQJ_"
      },
      "execution_count": null,
      "outputs": []
    },
    {
      "cell_type": "code",
      "source": [
        ""
      ],
      "metadata": {
        "id": "DOT-Q116zQHj"
      },
      "execution_count": null,
      "outputs": []
    },
    {
      "cell_type": "code",
      "source": [
        ""
      ],
      "metadata": {
        "id": "WeLXKMiQzQEt"
      },
      "execution_count": null,
      "outputs": []
    }
  ]
}