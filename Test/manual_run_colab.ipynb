{
  "nbformat": 4,
  "nbformat_minor": 0,
  "metadata": {
    "colab": {
      "name": "manual_run_colab.ipynb",
      "provenance": [],
      "collapsed_sections": []
    },
    "kernelspec": {
      "name": "python3",
      "display_name": "Python 3"
    },
    "language_info": {
      "name": "python"
    }
  },
  "cells": [
    {
      "cell_type": "code",
      "execution_count": 1,
      "metadata": {
        "id": "622v-AVkywSW",
        "colab": {
          "base_uri": "https://localhost:8080/"
        },
        "outputId": "1859a741-c6e0-41b3-ec7a-65a898737a2b"
      },
      "outputs": [
        {
          "output_type": "stream",
          "name": "stdout",
          "text": [
            "[nltk_data] Downloading package stopwords to /root/nltk_data...\n",
            "[nltk_data]   Unzipping corpora/stopwords.zip.\n",
            "Collecting wikipedia\n",
            "  Downloading wikipedia-1.4.0.tar.gz (27 kB)\n",
            "Requirement already satisfied: beautifulsoup4 in /usr/local/lib/python3.7/dist-packages (from wikipedia) (4.6.3)\n",
            "Requirement already satisfied: requests<3.0.0,>=2.0.0 in /usr/local/lib/python3.7/dist-packages (from wikipedia) (2.23.0)\n",
            "Requirement already satisfied: urllib3!=1.25.0,!=1.25.1,<1.26,>=1.21.1 in /usr/local/lib/python3.7/dist-packages (from requests<3.0.0,>=2.0.0->wikipedia) (1.24.3)\n",
            "Requirement already satisfied: chardet<4,>=3.0.2 in /usr/local/lib/python3.7/dist-packages (from requests<3.0.0,>=2.0.0->wikipedia) (3.0.4)\n",
            "Requirement already satisfied: certifi>=2017.4.17 in /usr/local/lib/python3.7/dist-packages (from requests<3.0.0,>=2.0.0->wikipedia) (2021.10.8)\n",
            "Requirement already satisfied: idna<3,>=2.5 in /usr/local/lib/python3.7/dist-packages (from requests<3.0.0,>=2.0.0->wikipedia) (2.10)\n",
            "Building wheels for collected packages: wikipedia\n",
            "  Building wheel for wikipedia (setup.py) ... \u001b[?25l\u001b[?25hdone\n",
            "  Created wheel for wikipedia: filename=wikipedia-1.4.0-py3-none-any.whl size=11696 sha256=4440f2383772308c3c9f23b09631f5240708224e287e018e40c062307a2bfdb4\n",
            "  Stored in directory: /root/.cache/pip/wheels/15/93/6d/5b2c68b8a64c7a7a04947b4ed6d89fb557dcc6bc27d1d7f3ba\n",
            "Successfully built wikipedia\n",
            "Installing collected packages: wikipedia\n",
            "Successfully installed wikipedia-1.4.0\n"
          ]
        }
      ],
      "source": [
        "import nltk\n",
        "nltk.download('stopwords')\n",
        "!pip install wikipedia"
      ]
    },
    {
      "cell_type": "code",
      "source": [
        "from google.colab import drive\n",
        "drive.mount('/content/drive')"
      ],
      "metadata": {
        "colab": {
          "base_uri": "https://localhost:8080/"
        },
        "id": "ltlogIte0BS9",
        "outputId": "2108b91b-5c10-471b-9176-05dae6dd4e2d"
      },
      "execution_count": 9,
      "outputs": [
        {
          "output_type": "stream",
          "name": "stdout",
          "text": [
            "Drive already mounted at /content/drive; to attempt to forcibly remount, call drive.mount(\"/content/drive\", force_remount=True).\n"
          ]
        }
      ]
    },
    {
      "cell_type": "code",
      "source": [
        "import manual_test_search as mts\n",
        "import hashed_index"
      ],
      "metadata": {
        "id": "uzLchno6zQRl"
      },
      "execution_count": 17,
      "outputs": []
    },
    {
      "cell_type": "code",
      "source": [
        "# uncomment the code below and execute to reload the module when you make \n",
        "# changes to search_frontend.py (after you upload again).\n",
        "import importlib\n",
        "importlib.reload(mts)\n",
        "import importlib\n",
        "importlib.reload(hashed_index)"
      ],
      "metadata": {
        "colab": {
          "base_uri": "https://localhost:8080/"
        },
        "id": "RFGojnMk4rrT",
        "outputId": "5d05993f-8478-4885-aa40-e9c2a80a1722"
      },
      "execution_count": 20,
      "outputs": [
        {
          "output_type": "execute_result",
          "data": {
            "text/plain": [
              "<module 'hashed_index' from '/content/hashed_index.py'>"
            ]
          },
          "metadata": {},
          "execution_count": 20
        }
      ]
    },
    {
      "cell_type": "code",
      "source": [
        "def average_precision(true_list, predicted_list, k=40):\n",
        "    true_set = frozenset(true_list)\n",
        "    predicted_list = predicted_list[:k]\n",
        "    precisions = []\n",
        "    for i,doc_id in enumerate(predicted_list):        \n",
        "        if doc_id in true_set:\n",
        "            prec = (len(precisions)+1) / (i+1)            \n",
        "            precisions.append(prec)\n",
        "    if len(precisions) == 0:\n",
        "        return 0.0\n",
        "    return round(sum(precisions)/len(precisions),3)"
      ],
      "metadata": {
        "id": "G3TLTG2vzQPJ"
      },
      "execution_count": null,
      "outputs": []
    },
    {
      "cell_type": "code",
      "source": [
        "from time import time\n",
        "t_start = time()\n",
        "\n",
        "query = \"duck\"\n",
        "\n",
        "\n",
        "res_body = mts.search_body(query)\n",
        "print(res_body)\n",
        "duration = time() - t_start\n",
        "print(duration)\n",
        "\n",
        "res_title = mts.search_title(query)\n",
        "print(res_title)\n",
        "duration = time() - t_start\n",
        "print(duration)\n",
        "\n",
        "res_anchor = mts.search_anchor(query)\n",
        "print(res_anchor)\n",
        "duration = time() - t_start\n",
        "print(duration)\n",
        "\n",
        "ids = list(map(lambda x: x[0], res_title))\n",
        "page_rank = mts.get_pagerank(ids)\n",
        "print(page_rank)\n",
        "duration = time() - t_start\n",
        "print(duration)\n",
        "\n",
        "page_view = mts.get_pageview(ids)\n",
        "print(page_view)\n",
        "duration = time() - t_start\n",
        "print(duration)\n",
        "\n",
        "duration = time() - t_start\n",
        "print(duration)"
      ],
      "metadata": {
        "id": "AzaF335xzQM0",
        "colab": {
          "base_uri": "https://localhost:8080/"
        },
        "outputId": "235b37fe-f4b2-4990-8a73-b5bce1815dc8"
      },
      "execution_count": 26,
      "outputs": [
        {
          "output_type": "stream",
          "name": "stdout",
          "text": [
            "[(8277225, 3.305949417458623), (1179787, 1.519304551777916), (2608233, 1.1632044246613673), (440018, 1.1445524586682552), (11882165, 1.0360913638220839), (31468446, 0.9517127110865734), (39322520, 0.9509738037021894), (17069844, 0.9302131769505815), (21905962, 0.8534380289635033), (22503790, 0.8391054819122078), (54655786, 0.8214012783377963), (37674, 0.6147567340500839), (43399069, 0.613408583317518), (599738, 0.6090640368589453), (27898480, 0.5888722399848172), (3378227, 0.485042771673466), (4463369, 0.4551669487805351), (52077192, 0.43140823442111154), (54406331, 0.3194716377591079), (43707, 0.3047204346622599), (38904159, 0.2991097091986374), (39303262, 0.28379385059509266), (1765938, 0.25991602316571244), (3275717, 0.224332281898978), (3781845, 0.213166421713961), (978408, 0.20527136905788837), (1761526, 0.16396978034383133), (13315204, 0.1602373442135557), (25228985, 0.14979262066386448), (12234103, 0.1460768347249159), (16308445, 0.1454005530826709), (6264793, 0.12995801158285622), (3577886, 0.12871524371252838), (47840259, 0.12715190067148552), (46186668, 0.12364771443250756), (582735, 0.12316282143473302), (1793236, 0.11836627939393311), (36835927, 0.11806962205209368), (23030371, 0.10574585678739704), (864249, 0.08675834106590309), (47987665, 0.08675834106590309), (37400147, 0.08442612759638958), (34964813, 0.08375071857561846), (4093674, 0.08221601954412806), (46665704, 0.08210854762315534), (1969515, 0.07716589549350594), (15190087, 0.071378453331493), (31728660, 0.06435762185626419), (37032671, 0.052344199109761534), (2575380, 0.04891981225211358), (264104, 0.048095741907897276), (311935, 0.04605061505257613), (3115732, 0.0449950135613996), (36928057, 0.044696185198088594), (2589070, 0.04278817365920561), (430980, 0.04221306379819479), (53866975, 0.04100067815386021), (13679, 0.03920913790993373), (496821, 0.0373294605378648), (3828139, 0.03601665076359739), (23454546, 0.03428659330333725), (264917, 0.032647109631867906), (3610075, 0.032178810928132094), (26951370, 0.029439932007739898), (6497307, 0.026935265408110566), (6146589, 0.026414229996515493), (22735258, 0.02411557675904038), (11760348, 0.022211117019700792), (8474963, 0.019684437145632668), (21699434, 0.017683851050595112), (19696772, 0.017565167486497158), (57591892, 0.017294338912916807), (57069491, 0.017246853083941197), (1632324, 0.015594101025748222), (35306910, 0.015594101025748222), (100640, 0.015370237911512359), (878659, 0.01533521458293795), (5250192, 0.014988793890800312), (42444204, 0.013995775163037842), (559356, 0.013774789239410931), (265033, 0.013588052840722637), (36450985, 0.012879970253386204), (11002, 0.012756506688000373), (35052231, 0.012704902696544063), (2047222, 0.012400573624318342), (43911472, 0.011663723495614108), (2541491, 0.010748295505084503), (302808, 0.01014750225068075), (15434651, 0.010072648962750775), (32158923, 0.009950738060280377), (3653602, 0.00921552801228196), (19347339, 0.009156419669346041), (148869, 0.008897031010157767), (169672, 0.008202277217512908), (44254295, 0.00674249022452918), (3080697, 0.006306530013224281), (38539, 0.0063039982870046005), (6837398, 0.006241359194327687), (46208997, 0.005404666918922203), (62482816, 0.0053485217074007016)]\n",
            "1.6849544048309326\n",
            "[(37674, 'Duck'), (440018, 'Duck typing'), (599738, 'Rubber duck'), (1761526, 'The Fat Duck'), (2608233, 'Rubber duck (disambiguation)'), (3378227, 'Rubber Duck (album)'), (4463369, 'List of Darkwing Duck episodes'), (8277225, 'Fuzzy Duck'), (11882165, 'Big Duck'), (12234103, 'Rubber duck (military)'), (17069844, 'Duck call'), (21905962, 'Rubber duck debugging'), (22503790, 'Turbo Duck'), (39322520, 'Rubber Duck (sculpture)'), (43399069, 'Little Yellow Duck Project'), (52077192, 'Duck curve'), (54406331, 'Milkshake Duck'), (54655786, 'Rubber duck race')]\n",
            "2.4632022380828857\n",
            "[(1179787, 'List of fictional ducks'), (37674, 'Duck'), (2608233, 'Rubber duck (disambiguation)'), (25228985, 'MoSS'), (599738, 'Rubber duck'), (4463369, 'List of Darkwing Duck episodes'), (17069844, 'Duck call'), (43707, 'Duct tape'), (23862, 'Python (programming language)'), (38539, 'Reality television'), (265033, 'Space Jam'), (302808, 'List of films considered the worst'), (496821, 'Rendang'), (582735, 'C. W. McCall'), (37032671, 'List of Michelin 3-star restaurants in the United Kingdom'), (3921, 'Basketball'), (11002, 'French cuisine'), (85533, 'United States Electoral College'), (100640, 'Dim sum'), (169672, 'List of years in television'), (406363, 'Indonesian cuisine'), (430980, 'Protest vote'), (440018, 'Duck typing'), (636344, 'Gordon Ramsay'), (864249, 'The Pragmatic Programmer'), (878659, 'List of films based on Marvel Comics publications'), (1074657, 'Marvel Studios'), (1632324, 'Fly tying'), (1793236, 'Convoy (song)'), (3275717, 'Posankka'), (3378227, 'Rubber Duck (album)'), (3610075, 'Ted Key'), (3828139, 'Chicken feet'), (4093674, 'Siopao'), (6146589, 'Princess Python'), (6263016, 'Curtis Ebbesmeyer'), (6264793, 'Friendly Floatees'), (6837398, 'List of films featuring extraterrestrials'), (13315204, 'Duckbill valve'), (16308445, 'Cincinnati Riverfest'), (19696772, 'Balloon release'), (42444204, 'List of noodle dishes'), (46665704, 'Chinese regional cuisine'), (52077192, 'Duck curve'), (62482816, 'Avengers (Marvel Cinematic Universe)')]\n",
            "3.4917430877685547\n",
            "[(37674, 50.50705641487649), (440018, 4.2830892388962), (52077192, 3.284044870457036), (599738, 2.5059061778107616), (1761526, 2.4053069452567115), (21905962, 1.121244301188561), (17069844, 0.8558308430501661), (11882165, 0.6868081627810834), (39322520, 0.6255538468318999), (12234103, 0.4658840468149375), (8277225, 0.2860930311647185), (4463369, 0.27224070587464266), (43399069, 0.24009804495884057), (3378227, 0.2393249818146434), (54406331, 0.22060178662672117), (54655786, 0.19033334375498318), (22503790, 0.1559281815116132), (2608233, 0.1501208493870428)]\n",
            "4.057851791381836\n",
            "[(37674, 41835), (21905962, 36158), (54406331, 21640), (440018, 16031), (1761526, 15750), (599738, 4122), (52077192, 4066), (4463369, 3522), (11882165, 2491), (39322520, 2376), (12234103, 986), (17069844, 849), (54655786, 815), (2608233, 200), (3378227, 180), (43399069, 31), (22503790, 21), (8277225, 5)]\n",
            "4.807858467102051\n",
            "4.807980298995972\n"
          ]
        }
      ]
    },
    {
      "cell_type": "code",
      "source": [
        ""
      ],
      "metadata": {
        "id": "Ugu7pi1_zQJ_"
      },
      "execution_count": null,
      "outputs": []
    },
    {
      "cell_type": "code",
      "source": [
        ""
      ],
      "metadata": {
        "id": "DOT-Q116zQHj"
      },
      "execution_count": null,
      "outputs": []
    },
    {
      "cell_type": "code",
      "source": [
        ""
      ],
      "metadata": {
        "id": "WeLXKMiQzQEt"
      },
      "execution_count": null,
      "outputs": []
    }
  ]
}