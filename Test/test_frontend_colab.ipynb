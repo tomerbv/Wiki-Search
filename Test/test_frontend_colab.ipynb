{
  "nbformat": 4,
  "nbformat_minor": 0,
  "metadata": {
    "colab": {
      "name": "test_frontend_colab.ipynb",
      "provenance": [],
      "collapsed_sections": []
    },
    "kernelspec": {
      "name": "python3",
      "display_name": "Python 3"
    },
    "language_info": {
      "name": "python"
    }
  },
  "cells": [
    {
      "cell_type": "code",
      "execution_count": 1,
      "metadata": {
        "id": "jmGUzvW7oeOU"
      },
      "outputs": [],
      "source": [
        "import json\n",
        "\n",
        "with open('queries_train.json', 'rt') as f:\n",
        "  queries = json.load(f)"
      ]
    },
    {
      "cell_type": "code",
      "source": [
        "def average_precision(true_list, predicted_list, k=40):\n",
        "    true_set = frozenset(true_list)\n",
        "    predicted_list = predicted_list[:k]\n",
        "    precisions = []\n",
        "    for i,doc_id in enumerate(predicted_list):        \n",
        "        if doc_id in true_set:\n",
        "            prec = (len(precisions)+1) / (i+1)            \n",
        "            precisions.append(prec)\n",
        "    if len(precisions) == 0:\n",
        "        return 0.0\n",
        "    return round(sum(precisions)/len(precisions),3)"
      ],
      "metadata": {
        "id": "q0CKViZCo-ZN"
      },
      "execution_count": 2,
      "outputs": []
    },
    {
      "cell_type": "code",
      "source": [
        "import requests\n",
        "from time import time\n",
        "# url = 'http://35.232.59.3:8080'\n",
        "# place the domain you got from ngrok or GCP IP below. \n",
        "url = 'http://2288-34-86-52-192.ngrok.io'\n",
        "\n",
        "qs_res = []\n",
        "for q, true_wids in queries.items():\n",
        "  duration, ap = None, None\n",
        "  t_start = time()\n",
        "  try:\n",
        "    res = requests.get(url + '/search', {'query': q}, timeout=35)\n",
        "    duration = time() - t_start\n",
        "    if res.status_code == 200:\n",
        "      pred_wids, _ = zip(*res.json())\n",
        "      ap = average_precision(true_wids, pred_wids)\n",
        "  except:\n",
        "    pass\n",
        "  \n",
        "  qs_res.append((q, duration, ap))"
      ],
      "metadata": {
        "id": "7hNP9vTqo-sx"
      },
      "execution_count": 10,
      "outputs": []
    },
    {
      "cell_type": "code",
      "source": [
        "print(qs_res)\n",
        "\n",
        "sum_num = list(map(lambda x: x[2], qs_res))\n",
        "avg = sum(sum_num)/len(sum_num)\n",
        "print(f\"average ap: {avg}\")\n",
        "\n",
        "sum_num = list(map(lambda x: x[1], qs_res))\n",
        "avg = sum(sum_num)/len(sum_num)\n",
        "print(f\"average time: {avg}\")"
      ],
      "metadata": {
        "id": "SgAnIBOhpBUB",
        "colab": {
          "base_uri": "https://localhost:8080/"
        },
        "outputId": "e5f75f3a-f740-42ed-8ed3-23d0e58fab3c"
      },
      "execution_count": 11,
      "outputs": [
        {
          "output_type": "stream",
          "name": "stdout",
          "text": [
            "[('python', 0.6075048446655273, 1.0), ('data science', 1.3083178997039795, 0.977), ('migraine', 0.42084336280822754, 1.0), ('chocolate', 0.7368018627166748, 0.989), ('how to make pasta', 1.0332353115081787, 1.0), ('Does pasta have preservatives?', 0.5980076789855957, 0.125), ('how google works', 1.079615831375122, 0.911), ('what is information retrieval', 0.8921527862548828, 0.985), ('NBA', 0.7324526309967041, 1.0), ('yoga', 0.4703989028930664, 1.0), ('how to not kill plants', 0.7329175472259521, 0.98), ('masks', 0.5010898113250732, 1.0), ('black friday', 1.228712558746338, 0.964), ('why do men have nipples', 0.8251144886016846, 0.957), ('rubber duck', 0.7025954723358154, 0.872), ('michelin', 0.2927544116973877, 0.997), ('what to watch', 0.6635217666625977, 0.949), ('best marvel movie', 1.460559606552124, 0.975), ('how tall is the eiffel tower', 0.9408795833587646, 1.0), ('where does vanilla flavoring come from', 0.9018557071685791, 0.992), ('best ice cream flavour', 1.4127404689788818, 0.988), ('how to tie a tie', 0.5554397106170654, 0.983), ('how to earn money online', 1.0883948802947998, 0.92), ('what is critical race theory', 1.082639217376709, 0.962), ('what space movie was made in 1992', 1.6392028331756592, 0.952), ('how to vote', 0.5781023502349854, 1.0), ('google trends', 0.890927791595459, 0.559), ('dim sum', 0.5198969841003418, 0.982), ('ted', 0.6843171119689941, 1.0), ('fairy tale', 0.6009993553161621, 1.0)]\n",
            "average ap: 0.9339666666666667\n",
            "average time: 0.8393997589747111\n"
          ]
        }
      ]
    }
  ]
}