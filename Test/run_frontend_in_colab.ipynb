{
  "cells": [
    {
      "cell_type": "code",
      "execution_count": 1,
      "metadata": {
        "colab": {
          "base_uri": "https://localhost:8080/"
        },
        "id": "bCPDHP7zTQJZ",
        "outputId": "dfd41f9f-899b-4f93-b385-8630a6f36051"
      },
      "outputs": [
        {
          "output_type": "stream",
          "name": "stdout",
          "text": [
            "[nltk_data] Downloading package stopwords to /root/nltk_data...\n",
            "[nltk_data]   Unzipping corpora/stopwords.zip.\n"
          ]
        },
        {
          "output_type": "execute_result",
          "data": {
            "text/plain": [
              "True"
            ]
          },
          "metadata": {},
          "execution_count": 1
        }
      ],
      "source": [
        "# download nltk stopwords\n",
        "import nltk\n",
        "nltk.download('stopwords')"
      ]
    },
    {
      "cell_type": "code",
      "execution_count": 2,
      "metadata": {
        "colab": {
          "base_uri": "https://localhost:8080/"
        },
        "id": "lAt6KT8xOgHH",
        "outputId": "62dc3f60-62e2-409c-8f55-35d5da90c353"
      },
      "outputs": [
        {
          "output_type": "stream",
          "name": "stdout",
          "text": [
            "\u001b[?25l\r\u001b[K     |███                             | 10 kB 25.5 MB/s eta 0:00:01\r\u001b[K     |██████▏                         | 20 kB 30.2 MB/s eta 0:00:01\r\u001b[K     |█████████▏                      | 30 kB 27.0 MB/s eta 0:00:01\r\u001b[K     |████████████▎                   | 40 kB 29.7 MB/s eta 0:00:01\r\u001b[K     |███████████████▍                | 51 kB 31.7 MB/s eta 0:00:01\r\u001b[K     |██████████████████▍             | 61 kB 23.5 MB/s eta 0:00:01\r\u001b[K     |█████████████████████▌          | 71 kB 22.1 MB/s eta 0:00:01\r\u001b[K     |████████████████████████▋       | 81 kB 23.6 MB/s eta 0:00:01\r\u001b[K     |███████████████████████████▋    | 92 kB 23.0 MB/s eta 0:00:01\r\u001b[K     |██████████████████████████████▊ | 102 kB 24.2 MB/s eta 0:00:01\r\u001b[K     |████████████████████████████████| 106 kB 24.2 MB/s \n",
            "\u001b[K     |████████████████████████████████| 75 kB 3.8 MB/s \n",
            "\u001b[K     |████████████████████████████████| 109 kB 57.8 MB/s \n",
            "\u001b[31mERROR: pip's dependency resolver does not currently take into account all the packages that are installed. This behaviour is the source of the following dependency conflicts.\n",
            "google-cloud-translate 1.5.0 requires google-api-core[grpc]<2.0.0dev,>=1.6.0, but you have google-api-core 2.3.2 which is incompatible.\n",
            "google-cloud-translate 1.5.0 requires google-cloud-core<2.0dev,>=1.0.0, but you have google-cloud-core 2.2.1 which is incompatible.\n",
            "google-cloud-language 1.2.0 requires google-api-core[grpc]<2.0.0dev,>=1.6.0, but you have google-api-core 2.3.2 which is incompatible.\n",
            "google-cloud-firestore 1.7.0 requires google-api-core[grpc]<2.0.0dev,>=1.14.0, but you have google-api-core 2.3.2 which is incompatible.\n",
            "google-cloud-firestore 1.7.0 requires google-cloud-core<2.0dev,>=1.0.3, but you have google-cloud-core 2.2.1 which is incompatible.\n",
            "google-cloud-datastore 1.8.0 requires google-api-core[grpc]<2.0.0dev,>=1.6.0, but you have google-api-core 2.3.2 which is incompatible.\n",
            "google-cloud-datastore 1.8.0 requires google-cloud-core<2.0dev,>=1.0.0, but you have google-cloud-core 2.2.1 which is incompatible.\n",
            "google-cloud-bigquery 1.21.0 requires google-cloud-core<2.0dev,>=1.0.3, but you have google-cloud-core 2.2.1 which is incompatible.\n",
            "google-cloud-bigquery 1.21.0 requires google-resumable-media!=0.4.0,<0.5.0dev,>=0.3.1, but you have google-resumable-media 2.1.0 which is incompatible.\n",
            "google-cloud-bigquery-storage 1.1.0 requires google-api-core[grpc]<2.0.0dev,>=1.14.0, but you have google-api-core 2.3.2 which is incompatible.\n",
            "google-api-python-client 1.12.8 requires google-api-core<2dev,>=1.21.0, but you have google-api-core 2.3.2 which is incompatible.\n",
            "firebase-admin 4.4.0 requires google-api-core[grpc]<2.0.0dev,>=1.14.0; platform_python_implementation != \"PyPy\", but you have google-api-core 2.3.2 which is incompatible.\u001b[0m\n",
            "\u001b[?25h"
          ]
        }
      ],
      "source": [
        "# Install a particular version of `google-cloud-storage` because (oddly enough) \n",
        "# the  version on Colab and GCP is old. A dependency error below is okay.\n",
        "!pip install -q google-cloud-storage==1.43.0"
      ]
    },
    {
      "cell_type": "code",
      "execution_count": 3,
      "metadata": {
        "id": "-oKFly5jFLFn"
      },
      "outputs": [],
      "source": [
        "# authenticate below for Google Storage access as needed\n",
        "from google.colab import auth\n",
        "auth.authenticate_user()"
      ]
    },
    {
      "cell_type": "code",
      "execution_count": 4,
      "metadata": {
        "colab": {
          "base_uri": "https://localhost:8080/"
        },
        "id": "FrBdFNYgiyab",
        "outputId": "75aa0e7b-9276-47ec-c7d4-e810706bc957"
      },
      "outputs": [
        {
          "output_type": "stream",
          "name": "stdout",
          "text": [
            "WARNING: timestamping does nothing in combination with -O. See the manual\n",
            "for details.\n",
            "\n",
            "--2022-01-08 17:41:34--  https://bin.equinox.io/c/4VmDzA7iaHb/ngrok-stable-linux-amd64.zip\n",
            "Resolving bin.equinox.io (bin.equinox.io)... 52.202.168.65, 54.161.241.46, 54.237.133.81, ...\n",
            "Connecting to bin.equinox.io (bin.equinox.io)|52.202.168.65|:443... connected.\n",
            "HTTP request sent, awaiting response... 200 OK\n",
            "Length: 13832437 (13M) [application/octet-stream]\n",
            "Saving to: ‘ngrok-stable-linux-amd64.zip’\n",
            "\n",
            "ngrok-stable-linux- 100%[===================>]  13.19M  76.5MB/s    in 0.2s    \n",
            "\n",
            "2022-01-08 17:41:34 (76.5 MB/s) - ‘ngrok-stable-linux-amd64.zip’ saved [13832437/13832437]\n",
            "\n",
            "Archive:  ngrok-stable-linux-amd64.zip\n",
            "  inflating: ngrok                   \n"
          ]
        }
      ],
      "source": [
        "# install ngrok to emulate public IP / address\n",
        "!wget -N https://bin.equinox.io/c/4VmDzA7iaHb/ngrok-stable-linux-amd64.zip -O ngrok-stable-linux-amd64.zip\n",
        "!unzip -u ngrok-stable-linux-amd64.zip"
      ]
    },
    {
      "cell_type": "code",
      "execution_count": 5,
      "metadata": {
        "colab": {
          "base_uri": "https://localhost:8080/"
        },
        "id": "xA-_dKEZbsXW",
        "outputId": "507e088b-c74f-485d-88a4-27dd10dc9552"
      },
      "outputs": [
        {
          "output_type": "stream",
          "name": "stdout",
          "text": [
            "Authtoken saved to configuration file: /root/.ngrok2/ngrok.yml\n"
          ]
        }
      ],
      "source": [
        "# TODO: sign up for an ngrok account\n",
        "# then put your ngrok token below, uncomment, and execute\n",
        "!./ngrok authtoken 235vReHVKOSyxBOmU7qsjn0PtQC_7Ko4eRknST1UfFDBSKR8r"
      ]
    },
    {
      "cell_type": "code",
      "execution_count": 6,
      "metadata": {
        "colab": {
          "base_uri": "https://localhost:8080/"
        },
        "id": "nXn5PlyGORQr",
        "outputId": "19e03fe2-ea8a-4a6b-aa32-3db6b591ed1f"
      },
      "outputs": [
        {
          "output_type": "stream",
          "name": "stdout",
          "text": [
            "\u001b[?25l\r\u001b[K     |████                            | 10 kB 25.2 MB/s eta 0:00:01\r\u001b[K     |████████                        | 20 kB 28.0 MB/s eta 0:00:01\r\u001b[K     |███████████▉                    | 30 kB 30.8 MB/s eta 0:00:01\r\u001b[K     |███████████████▉                | 40 kB 33.4 MB/s eta 0:00:01\r\u001b[K     |███████████████████▊            | 51 kB 36.1 MB/s eta 0:00:01\r\u001b[K     |███████████████████████▊        | 61 kB 34.9 MB/s eta 0:00:01\r\u001b[K     |███████████████████████████▋    | 71 kB 30.4 MB/s eta 0:00:01\r\u001b[K     |███████████████████████████████▋| 81 kB 31.9 MB/s eta 0:00:01\r\u001b[K     |████████████████████████████████| 83 kB 1.2 MB/s \n",
            "\u001b[?25h"
          ]
        }
      ],
      "source": [
        "# install a ngrok python package and a version of flask that works with it in \n",
        "# colab\n",
        "!pip -q install flask-ngrok\n",
        "!pip -q install flask==0.12.2\n",
        "# !pip -q install flask_restful"
      ]
    },
    {
      "cell_type": "code",
      "source": [
        "from google.colab import drive\n",
        "drive.mount('/content/drive')"
      ],
      "metadata": {
        "colab": {
          "base_uri": "https://localhost:8080/"
        },
        "id": "YaUShkxstyDx",
        "outputId": "6828c0ba-a98f-4790-97e1-a43387066248"
      },
      "execution_count": 7,
      "outputs": [
        {
          "output_type": "stream",
          "name": "stdout",
          "text": [
            "Mounted at /content/drive\n"
          ]
        }
      ]
    },
    {
      "cell_type": "code",
      "source": [
        "!cp -a '/content/drive/MyDrive/Test Data/.' '/content/'"
      ],
      "metadata": {
        "id": "eu6C2uuVtaB8"
      },
      "execution_count": 8,
      "outputs": []
    },
    {
      "cell_type": "markdown",
      "metadata": {
        "id": "6dW0y91OVu5J"
      },
      "source": [
        "# Run the app"
      ]
    },
    {
      "cell_type": "code",
      "execution_count": 30,
      "metadata": {
        "id": "7opNkV6uRHIv"
      },
      "outputs": [],
      "source": [
        "# you need to upload your implementation of search_app.py\n",
        "import search_frontend as se"
      ]
    },
    {
      "cell_type": "code",
      "execution_count": 43,
      "metadata": {
        "id": "oTGXXYEXV5l8",
        "colab": {
          "base_uri": "https://localhost:8080/"
        },
        "outputId": "949d9c03-8c00-45e3-b7ae-7d9186cc4190"
      },
      "outputs": [
        {
          "output_type": "execute_result",
          "data": {
            "text/plain": [
              "<module 'search_frontend' from '/content/search_frontend.py'>"
            ]
          },
          "metadata": {},
          "execution_count": 43
        }
      ],
      "source": [
        "# uncomment the code below and execute to reload the module when you make \n",
        "# changes to search_frontend.py (after you upload again).\n",
        "import importlib\n",
        "importlib.reload(se)"
      ]
    },
    {
      "cell_type": "code",
      "execution_count": 44,
      "metadata": {
        "colab": {
          "base_uri": "https://localhost:8080/"
        },
        "id": "J5n9u9rFP_wD",
        "outputId": "c9941b00-be1d-479a-bb8d-4c3a0db5c563"
      },
      "outputs": [
        {
          "metadata": {
            "tags": null
          },
          "name": "stderr",
          "output_type": "stream",
          "text": [
            " * Running on http://127.0.0.1:5000/ (Press CTRL+C to quit)\n"
          ]
        },
        {
          "metadata": {
            "tags": null
          },
          "name": "stdout",
          "output_type": "stream",
          "text": [
            " * Running on http://2288-34-86-52-192.ngrok.io\n",
            " * Traffic stats available on http://127.0.0.1:4040\n"
          ]
        },
        {
          "metadata": {
            "tags": null
          },
          "name": "stderr",
          "output_type": "stream",
          "text": [
            "127.0.0.1 - - [08/Jan/2022 21:04:25] \"\u001b[37mGET /search?query=python HTTP/1.1\u001b[0m\" 200 -\n",
            "127.0.0.1 - - [08/Jan/2022 21:04:27] \"\u001b[37mGET /search?query=data+science HTTP/1.1\u001b[0m\" 200 -\n",
            "127.0.0.1 - - [08/Jan/2022 21:04:27] \"\u001b[37mGET /search?query=migraine HTTP/1.1\u001b[0m\" 200 -\n",
            "127.0.0.1 - - [08/Jan/2022 21:04:28] \"\u001b[37mGET /search?query=chocolate HTTP/1.1\u001b[0m\" 200 -\n",
            "127.0.0.1 - - [08/Jan/2022 21:04:29] \"\u001b[37mGET /search?query=how+to+make+pasta HTTP/1.1\u001b[0m\" 200 -\n",
            "127.0.0.1 - - [08/Jan/2022 21:04:30] \"\u001b[37mGET /search?query=Does+pasta+have+preservatives%3F HTTP/1.1\u001b[0m\" 200 -\n",
            "127.0.0.1 - - [08/Jan/2022 21:04:31] \"\u001b[37mGET /search?query=how+google+works HTTP/1.1\u001b[0m\" 200 -\n",
            "127.0.0.1 - - [08/Jan/2022 21:04:32] \"\u001b[37mGET /search?query=what+is+information+retrieval HTTP/1.1\u001b[0m\" 200 -\n",
            "127.0.0.1 - - [08/Jan/2022 21:04:32] \"\u001b[37mGET /search?query=NBA HTTP/1.1\u001b[0m\" 200 -\n",
            "127.0.0.1 - - [08/Jan/2022 21:04:33] \"\u001b[37mGET /search?query=yoga HTTP/1.1\u001b[0m\" 200 -\n",
            "127.0.0.1 - - [08/Jan/2022 21:04:33] \"\u001b[37mGET /search?query=how+to+not+kill+plants HTTP/1.1\u001b[0m\" 200 -\n",
            "127.0.0.1 - - [08/Jan/2022 21:04:34] \"\u001b[37mGET /search?query=masks HTTP/1.1\u001b[0m\" 200 -\n",
            "127.0.0.1 - - [08/Jan/2022 21:04:35] \"\u001b[37mGET /search?query=black+friday HTTP/1.1\u001b[0m\" 200 -\n",
            "127.0.0.1 - - [08/Jan/2022 21:04:36] \"\u001b[37mGET /search?query=why+do+men+have+nipples HTTP/1.1\u001b[0m\" 200 -\n",
            "127.0.0.1 - - [08/Jan/2022 21:04:37] \"\u001b[37mGET /search?query=rubber+duck HTTP/1.1\u001b[0m\" 200 -\n",
            "127.0.0.1 - - [08/Jan/2022 21:04:37] \"\u001b[37mGET /search?query=michelin HTTP/1.1\u001b[0m\" 200 -\n",
            "127.0.0.1 - - [08/Jan/2022 21:04:38] \"\u001b[37mGET /search?query=what+to+watch HTTP/1.1\u001b[0m\" 200 -\n",
            "127.0.0.1 - - [08/Jan/2022 21:04:39] \"\u001b[37mGET /search?query=best+marvel+movie HTTP/1.1\u001b[0m\" 200 -\n",
            "127.0.0.1 - - [08/Jan/2022 21:04:40] \"\u001b[37mGET /search?query=how+tall+is+the+eiffel+tower HTTP/1.1\u001b[0m\" 200 -\n",
            "127.0.0.1 - - [08/Jan/2022 21:04:41] \"\u001b[37mGET /search?query=where+does+vanilla+flavoring+come+from HTTP/1.1\u001b[0m\" 200 -\n",
            "127.0.0.1 - - [08/Jan/2022 21:04:42] \"\u001b[37mGET /search?query=best+ice+cream+flavour HTTP/1.1\u001b[0m\" 200 -\n",
            "127.0.0.1 - - [08/Jan/2022 21:04:43] \"\u001b[37mGET /search?query=how+to+tie+a+tie HTTP/1.1\u001b[0m\" 200 -\n",
            "127.0.0.1 - - [08/Jan/2022 21:04:44] \"\u001b[37mGET /search?query=how+to+earn+money+online HTTP/1.1\u001b[0m\" 200 -\n",
            "127.0.0.1 - - [08/Jan/2022 21:04:45] \"\u001b[37mGET /search?query=what+is+critical+race+theory HTTP/1.1\u001b[0m\" 200 -\n",
            "127.0.0.1 - - [08/Jan/2022 21:04:47] \"\u001b[37mGET /search?query=what+space+movie+was+made+in+1992 HTTP/1.1\u001b[0m\" 200 -\n",
            "127.0.0.1 - - [08/Jan/2022 21:04:47] \"\u001b[37mGET /search?query=how+to+vote HTTP/1.1\u001b[0m\" 200 -\n",
            "127.0.0.1 - - [08/Jan/2022 21:04:48] \"\u001b[37mGET /search?query=google+trends HTTP/1.1\u001b[0m\" 200 -\n",
            "127.0.0.1 - - [08/Jan/2022 21:04:49] \"\u001b[37mGET /search?query=dim+sum HTTP/1.1\u001b[0m\" 200 -\n",
            "127.0.0.1 - - [08/Jan/2022 21:04:49] \"\u001b[37mGET /search?query=ted HTTP/1.1\u001b[0m\" 200 -\n",
            "127.0.0.1 - - [08/Jan/2022 21:04:50] \"\u001b[37mGET /search?query=fairy+tale HTTP/1.1\u001b[0m\" 200 -\n"
          ]
        }
      ],
      "source": [
        "from flask_ngrok import run_with_ngrok\n",
        "run_with_ngrok(se.app) \n",
        "se.app.run()"
      ]
    },
    {
      "cell_type": "markdown",
      "metadata": {
        "id": "Na0MC_1nzDbi"
      },
      "source": [
        "# Testing your app\n",
        "\n",
        "Once your app is running you can query it. You can simply do that by navigating to the URL that ngrok gave you above or through code in a different python session. For example, once the frontend app is running, you can navigate to:\n",
        "http://YOUR_SERVER_DOMAIN/search?query=hello+world where YOUR_SERVER_DOMAIN is something like XXXX-XX-XX-XX-XX.ngrok.io, which is printed above in Colab or that is your external IP on GCP.\n",
        "\n",
        "The code below shows how to issue a query from python. This is also how our testing code will issue queries to your search engine, so make sure to test your search engine this way after you deploy it to GCP and before submission. Command line instructions for deploying your search engine to GCP are available at `run_frontend_in_gcp.sh`. Note that we will not only issue training queries to your search engine, but also test queries, i.e. queries that you've never seen before."
      ]
    },
    {
      "cell_type": "code",
      "execution_count": null,
      "metadata": {
        "id": "NRKEzQxHFTiN"
      },
      "outputs": [],
      "source": [
        ""
      ]
    },
    {
      "cell_type": "code",
      "execution_count": 21,
      "metadata": {
        "id": "EM5ePrRHojbG"
      },
      "outputs": [],
      "source": [
        "import json\n",
        "\n",
        "with open('queries_train.json', 'rt') as f:\n",
        "  queries = json.load(f)"
      ]
    },
    {
      "cell_type": "code",
      "execution_count": 22,
      "metadata": {
        "id": "gWimZWCOy3Ei"
      },
      "outputs": [],
      "source": [
        "def average_precision(true_list, predicted_list, k=40):\n",
        "    true_set = frozenset(true_list)\n",
        "    predicted_list = predicted_list[:k]\n",
        "    precisions = []\n",
        "    for i,doc_id in enumerate(predicted_list):        \n",
        "        if doc_id in true_set:\n",
        "            prec = (len(precisions)+1) / (i+1)            \n",
        "            precisions.append(prec)\n",
        "    if len(precisions) == 0:\n",
        "        return 0.0\n",
        "    return round(sum(precisions)/len(precisions),3)"
      ]
    },
    {
      "cell_type": "code",
      "execution_count": 25,
      "metadata": {
        "id": "dYmNTq9u0ChK"
      },
      "outputs": [],
      "source": [
        "import requests\n",
        "from time import time\n",
        "# url = 'http://35.232.59.3:8080'\n",
        "# place the domain you got from ngrok or GCP IP below. \n",
        "url = 'http://b07f-35-230-18-29.ngrok.io/'\n",
        "\n",
        "qs_res = []\n",
        "for q, true_wids in queries.items():\n",
        "  duration, ap = None, None\n",
        "  t_start = time()\n",
        "  try:\n",
        "    res = requests.get(url + '/search_title', {'query': q}, timeout=35)\n",
        "    duration = time() - t_start\n",
        "    if res.status_code == 200:\n",
        "      pred_wids, _ = zip(*res.json())\n",
        "      ap = average_precision(true_wids, pred_wids)\n",
        "  except:\n",
        "    pass\n",
        "  \n",
        "  qs_res.append((q, duration, ap))"
      ]
    },
    {
      "cell_type": "code",
      "execution_count": 26,
      "metadata": {
        "colab": {
          "base_uri": "https://localhost:8080/"
        },
        "id": "ATC5ZjFslf6d",
        "outputId": "017e5c0a-bfcb-4ebb-bfb5-25ed5ef1ce31"
      },
      "outputs": [
        {
          "output_type": "stream",
          "name": "stdout",
          "text": [
            "[('python', 0.3554565906524658, None), ('data science', 0.3361334800720215, None), ('migraine', 0.33757829666137695, None), ('chocolate', 0.33597350120544434, None), ('how to make pasta', 0.33577752113342285, None), ('Does pasta have preservatives?', 0.33652281761169434, None), ('how google works', 0.33629345893859863, None), ('what is information retrieval', 0.3343167304992676, None), ('NBA', 0.3358018398284912, None), ('yoga', 0.335418701171875, None), ('how to not kill plants', 0.3354020118713379, None), ('masks', 0.33565592765808105, None), ('black friday', 0.3357875347137451, None), ('why do men have nipples', 0.338329553604126, None), ('rubber duck', 0.34331321716308594, None), ('michelin', 0.3334224224090576, None), ('what to watch', 0.3325812816619873, None), ('best marvel movie', 0.33299922943115234, None), ('how tall is the eiffel tower', 0.3349630832672119, None), ('where does vanilla flavoring come from', 0.33423423767089844, None), ('best ice cream flavour', 0.3321852684020996, None), ('how to tie a tie', 0.33426380157470703, None), ('how to earn money online', 0.3319416046142578, None), ('what is critical race theory', 0.3331887722015381, None), ('what space movie was made in 1992', 0.33299708366394043, None), ('how to vote', 0.3341712951660156, None), ('google trends', 0.3332185745239258, None), ('dim sum', 0.33287906646728516, None), ('ted', 0.33331871032714844, None), ('fairy tale', 0.33971524238586426, None)]\n"
          ]
        }
      ],
      "source": [
        "print(qs_res)"
      ]
    },
    {
      "cell_type": "code",
      "source": [
        "s"
      ],
      "metadata": {
        "id": "NX6aMhgg0iQN"
      },
      "execution_count": null,
      "outputs": []
    },
    {
      "cell_type": "code",
      "source": [
        ""
      ],
      "metadata": {
        "id": "70c2_jLH0i99"
      },
      "execution_count": null,
      "outputs": []
    },
    {
      "cell_type": "code",
      "source": [
        ""
      ],
      "metadata": {
        "id": "YpL_B2XL0i7S"
      },
      "execution_count": null,
      "outputs": []
    },
    {
      "cell_type": "code",
      "source": [
        ""
      ],
      "metadata": {
        "id": "BVFxlUG-0i4l"
      },
      "execution_count": null,
      "outputs": []
    }
  ],
  "metadata": {
    "colab": {
      "collapsed_sections": [],
      "name": "run_frontend_in_colab.ipynb",
      "provenance": []
    },
    "kernelspec": {
      "display_name": "Python 3",
      "name": "python3"
    },
    "language_info": {
      "name": "python"
    }
  },
  "nbformat": 4,
  "nbformat_minor": 0
}