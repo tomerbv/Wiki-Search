{
  "nbformat": 4,
  "nbformat_minor": 0,
  "metadata": {
    "colab": {
      "name": "page_rank_view_research.ipynb",
      "provenance": [],
      "collapsed_sections": []
    },
    "kernelspec": {
      "name": "python3",
      "display_name": "Python 3"
    },
    "language_info": {
      "name": "python"
    }
  },
  "cells": [
    {
      "cell_type": "code",
      "execution_count": 2,
      "metadata": {
        "colab": {
          "base_uri": "https://localhost:8080/"
        },
        "id": "wS9AnHDWdbCl",
        "outputId": "f698b60f-e1c1-47d8-d70e-269d30643e93"
      },
      "outputs": [
        {
          "output_type": "stream",
          "name": "stdout",
          "text": [
            "Mounted at /content/drive\n"
          ]
        }
      ],
      "source": [
        "import pickle\n",
        "from pathlib import Path\n",
        "from collections import Counter\n",
        "import pandas as pd\n",
        "import gzip\n",
        "import csv\n",
        "import time\n",
        "import statistics\n",
        "from google.colab import drive\n",
        "drive.mount('/content/drive')"
      ]
    },
    {
      "cell_type": "markdown",
      "source": [
        "# PAGE RANK RESEARCH \n"
      ],
      "metadata": {
        "id": "QJCE0HQ9fh6K"
      }
    },
    {
      "cell_type": "code",
      "source": [
        "path = 'drive/MyDrive/Test Data/pr.csv.gz'\n",
        "page_rank = {}\n",
        "with gzip.open(path, \"rt\") as csvFile:\n",
        "    csvreader = csv.reader(csvFile)\n",
        "    for row in csvreader:\n",
        "        page_rank.update({int(row[0]) :float(row[1])})\n",
        "\n",
        "\n"
      ],
      "metadata": {
        "colab": {
          "base_uri": "https://localhost:8080/"
        },
        "id": "s2QvApO1d3ND",
        "outputId": "91da8c6f-a349-45f4-c489-f5e7afd00c1d"
      },
      "execution_count": 7,
      "outputs": [
        {
          "output_type": "stream",
          "name": "stdout",
          "text": [
            "[(3434750, 9913.728782160772), (10568, 5385.349263642036), (32927, 5282.081575765276), (30680, 5128.233709604118), (5843419, 4957.56768626387), (68253, 4769.278265355158), (31717, 4486.35018054831), (11867, 4146.4146509127695), (14533, 3996.4664408855015), (645042, 3531.6270898037424), (17867, 3246.0983906041406), (5042916, 2991.9457391661786), (4689264, 2982.324883041747), (14532, 2934.7468292031704), (25391, 2903.5462235134), (5405, 2891.4163291546365), (4764461, 2834.366987332661), (15573, 2783.8651181588375), (9316, 2782.0396464137707), (8569916, 2775.286191840017), (606848, 2773.576318485694), (14653, 2695.4293248287886), (18618239, 2450.113149559415), (19344515, 2347.0140777778715), (26667, 2224.080244382611), (23366462, 2143.5150505664656), (64065, 2127.7638023507975), (22936, 2127.075241657331), (26779, 2116.152456234464), (5407, 2099.6738846846106), (19827221, 2092.451347470643), (43432956, 2085.7409097922214), (679, 2065.030879305207), (61371, 1961.5232748658937), (21148, 1959.6382627292871), (108956, 1933.8225548506437), (3383, 1909.79228608727), (53509, 1792.509387758476), (5058739, 1785.7760128617465), (66633, 1746.4344803403442), (697535, 1736.865696637734), (9239, 1731.7486738439852), (21780446, 1695.76965266053), (3966054, 1671.2044490591957), (19344654, 1631.1946973757874), (38493, 1594.778404082752), (38523, 1590.6698190150744), (26748, 1588.7767695323994), (18110, 1574.2759851317169), (48518, 1568.0084570996466), (4913064, 1554.0302968756175), (26994, 1539.7481188633553), (8210131, 1531.608019810229), (11125639, 1523.7400859726579), (102226, 1502.617117698955), (410219, 1479.091555890126), (17416221, 1459.0393486477726), (10597, 1442.372207753969), (57070, 1431.963418083269), (5043544, 1426.0749280808698), (9317, 1419.9270075820066), (21241, 1403.1786599615355), (525730, 1393.6801192436621), (32070, 1392.3458415540088), (6886, 1371.0925840601465), (5793352, 1368.3315495781617), (273319, 1318.2116662328442), (351656, 1311.6861522374656), (7044, 1304.569416568588), (3343, 1291.3366584665505), (10577, 1290.9837389624179), (56276, 1261.2226174591442), (22112840, 1255.5280602405694), (23440, 1244.5244234283468), (922843, 1240.0806331816086), (31769, 1212.6757002609454), (7429807, 1208.1764129214503), (448160, 1204.781790204434), (25675557, 1203.142897488834), (26964606, 1199.3310585780628), (18951905, 1188.271975993849), (484254, 1186.574508181073), (22218, 1178.5587847754066), (548981, 1174.2057447785974), (11884, 1173.5505503529248), (1139893, 1167.5201059328035), (18309966, 1156.8278961229196), (26825, 1153.0430021303223), (25445, 1140.1074113974198), (18836, 1129.3510072517122), (863, 1128.3077582982467), (173533, 1126.9602356656446), (73199, 1125.440801775347), (76972, 1116.601318916673), (25458, 1114.9829260869244), (3921, 1113.7082982268291), (3354, 1111.8333672874262), (14579, 1110.9551861708671), (18717338, 1109.5767170711788), (27019, 1109.189076706549)]\n"
          ]
        }
      ]
    },
    {
      "cell_type": "code",
      "source": [
        "sort_dic = sorted(list(page_rank.items()),key=lambda x: x[1])\n",
        "print(sort_dic[:10])\n",
        "print(sort_dic[-300])"
      ],
      "metadata": {
        "colab": {
          "base_uri": "https://localhost:8080/"
        },
        "id": "xWOzWhLvm6gy",
        "outputId": "22148167-82c2-43aa-979a-68ba5dfe755f"
      },
      "execution_count": 30,
      "outputs": [
        {
          "output_type": "stream",
          "name": "stdout",
          "text": [
            "[(5763, 0.1501208493870428), (5785, 0.1501208493870428), (6874, 0.1501208493870428), (7288, 0.1501208493870428), (7757, 0.1501208493870428), (9758, 0.1501208493870428), (11554, 0.1501208493870428), (12436, 0.1501208493870428), (12753, 0.1501208493870428), (14780, 0.1501208493870428)]\n",
            "(4721, 598.3967579826609)\n"
          ]
        }
      ]
    },
    {
      "cell_type": "code",
      "source": [
        "import statistics\n",
        "import matplotlib.pyplot as plt\n",
        "import numpy as np\n",
        "\n",
        "\n",
        "values = list(page_rank.values())\n",
        "num_of_pages =(len(values))\n",
        "pstdev=statistics.pstdev(values)\n",
        "variance = statistics.pvariance(values)\n",
        "median = statistics.median(values)\n",
        "\n",
        "\n",
        "print(f\"number of pages: {num_of_pages}\\n\")\n",
        "print(f\"Max page rank is : 9913.728782160772 \\n\")\n",
        "print(f\"Min page rank is : 0.1501208493870428 \\n\")\n",
        "print(f\"Median of page ranks is : {median}\\n\")\n",
        "print(f\"pstdev of page ranks is : {pstdev}\\n\")\n",
        "print(f\"variance of page ranks is : {variance}\\n\")\n",
        "print(f\"average of page rank is : {sum(values)/len(values)}\")\n",
        "\n",
        "\n",
        "\n"
      ],
      "metadata": {
        "colab": {
          "base_uri": "https://localhost:8080/"
        },
        "id": "Em5FFuRFeCNw",
        "outputId": "6c6e9a7c-ace8-453c-82c1-2e7d55179e88"
      },
      "execution_count": 31,
      "outputs": [
        {
          "output_type": "stream",
          "name": "stdout",
          "text": [
            "number of pages: 6345849\n",
            "\n",
            "Max page rank is : 9913.728782160772 \n",
            "\n",
            "Min page rank is : 0.1501208493870428 \n",
            "\n",
            "Median of page ranks is : 0.25155752848594026\n",
            "\n",
            "pstdev of page ranks is : 12.414671512846477\n",
            "\n",
            "variance of page ranks is : 154.12406877188184\n",
            "\n"
          ]
        }
      ]
    },
    {
      "cell_type": "code",
      "source": [
        "import numpy as np\n",
        "print(\"Regular graph: \\n\")\n",
        "plt.plot(sorted(values))\n",
        "plt.show()\n",
        "print(\"Log2 graph: \\n\")\n",
        "plt.plot(sorted(np.log2(values)))\n",
        "plt.show()\n",
        "print(\"Log10 graph: \\n\")\n",
        "plt.plot(sorted(np.log10(values)))\n",
        "with_no_negative=[x if x>2 else 2 for x in values]\n",
        "print(\"log2 graph after changing all numbers less than 2 to 2: \\n\")\n",
        "plt.plot(sorted(np.log2(with_no_negative)))\n",
        "plt.show()\n",
        "print(\"Log10 graph after changing all numbers less than 2 to 2: \\n\")\n",
        "plt.plot(sorted(np.log10(with_no_negative)))\n",
        "plt.show()\n",
        "\n",
        "\n",
        "\n",
        "\n"
      ],
      "metadata": {
        "colab": {
          "base_uri": "https://localhost:8080/",
          "height": 1000
        },
        "id": "B09m2kg1pCKu",
        "outputId": "88e9af38-e749-4ad7-cd81-46a6e9174d67"
      },
      "execution_count": 49,
      "outputs": [
        {
          "output_type": "stream",
          "name": "stdout",
          "text": [
            "Regular graph: \n",
            "\n"
          ]
        },
        {
          "output_type": "display_data",
          "data": {
            "image/png": "[encoded data removed]",
            "text/plain": [
              "<Figure size 432x288 with 1 Axes>"
            ]
          },
          "metadata": {
            "needs_background": "light"
          }
        },
        {
          "output_type": "stream",
          "name": "stdout",
          "text": [
            "Log2 graph: \n",
            "\n"
          ]
        },
        {
          "output_type": "display_data",
          "data": {
            "image/png": "[encoded data removed]",
            "text/plain": [
              "<Figure size 432x288 with 1 Axes>"
            ]
          },
          "metadata": {
            "needs_background": "light"
          }
        },
        {
          "output_type": "stream",
          "name": "stdout",
          "text": [
            "Log10 graph: \n",
            "\n",
            "log2 graph after changing all numbers less than 2 to 2: \n",
            "\n"
          ]
        },
        {
          "output_type": "display_data",
          "data": {
            "image/png": "[encoded data removed]",
            "text/plain": [
              "<Figure size 432x288 with 1 Axes>"
            ]
          },
          "metadata": {
            "needs_background": "light"
          }
        },
        {
          "output_type": "stream",
          "name": "stdout",
          "text": [
            "Log10 graph after changing all numbers less than 2 to 2: \n",
            "\n"
          ]
        },
        {
          "output_type": "display_data",
          "data": {
            "image/png": "[encoded data removed]",
            "text/plain": [
              "<Figure size 432x288 with 1 Axes>"
            ]
          },
          "metadata": {
            "needs_background": "light"
          }
        }
      ]
    },
    {
      "cell_type": "markdown",
      "source": [
        "# PAGE VIEW RESEARCH"
      ],
      "metadata": {
        "id": "YlOaY0Adf8yG"
      }
    },
    {
      "cell_type": "code",
      "source": [
        "# Paths\n",
        "# Using user page views (as opposed to spiders and automated traffic) for the \n",
        "# month of August 2021\n",
        "pv_path = 'https://dumps.wikimedia.org/other/pageview_complete/monthly/2021/2021-08/pageviews-202108-user.bz2'\n",
        "p = Path(pv_path) \n",
        "pv_name = p.name\n",
        "pv_temp = f'{p.stem}-4dedup.txt'\n",
        "pv_clean = f'{p.stem}.pkl'\n",
        "# Download the file (2.3GB) \n",
        "print(pv_name)\n",
        "print(pv_temp)\n",
        "print(pv_clean)\n",
        "\n",
        "\n",
        "!wget -N $pv_path\n",
        "# Filter for English pages, and keep just two fields: article ID (3) and monthly \n",
        "# total number of page views (5). Then, remove lines with article id or page \n",
        "# view values that are not a sequence of digits.\n",
        "!bzcat $pv_name | grep \"^en\\.wikipedia\" | cut -d' ' -f3,5 | grep -P \"^\\d+\\s\\d+$\" > $pv_temp\n",
        "# Create a Counter (dictionary) that sums up the pages views for the same \n",
        "# article, resulting in a mapping from article id to total page views.\n"
      ],
      "metadata": {
        "colab": {
          "base_uri": "https://localhost:8080/"
        },
        "id": "UOSlEN0XeDgT",
        "outputId": "09bb6f28-824d-4d60-baad-f787454a2c35"
      },
      "execution_count": 44,
      "outputs": [
        {
          "output_type": "stream",
          "name": "stdout",
          "text": [
            "pageviews-202108-user.bz2\n",
            "pageviews-202108-user-4dedup.txt\n",
            "pageviews-202108-user.pkl\n",
            "--2022-01-08 12:45:54--  https://dumps.wikimedia.org/other/pageview_complete/monthly/2021/2021-08/pageviews-202108-user.bz2\n",
            "Resolving dumps.wikimedia.org (dumps.wikimedia.org)... 208.80.154.7, 2620:0:861:1:208:80:154:7\n",
            "Connecting to dumps.wikimedia.org (dumps.wikimedia.org)|208.80.154.7|:443... connected.\n",
            "HTTP request sent, awaiting response... 200 OK\n",
            "Length: 2503235912 (2.3G) [application/octet-stream]\n",
            "Saving to: ‘pageviews-202108-user.bz2’\n",
            "\n",
            "pageviews-202108-us 100%[===================>]   2.33G  4.49MB/s    in 8m 47s  \n",
            "\n",
            "2022-01-08 12:54:42 (4.53 MB/s) - ‘pageviews-202108-user.bz2’ saved [2503235912/2503235912]\n",
            "\n"
          ]
        }
      ]
    },
    {
      "cell_type": "code",
      "source": [
        "wid2pv = Counter()\n",
        "with open(pv_temp, 'rt') as f:\n",
        "  for line in f:\n",
        "    parts = line.split(' ')\n",
        "    if int(parts[0]) in page_rank:\n",
        "      wid2pv.update({int(parts[0]): int(parts[1])})\n",
        "\n",
        "print(len(list(wid2pv.items())))\n",
        "print(list(wid2pv.items())[:100])"
      ],
      "metadata": {
        "colab": {
          "base_uri": "https://localhost:8080/"
        },
        "id": "xXRX1ik8eU9I",
        "outputId": "7dd9f7d7-0271-4032-848d-5a5e2632c269"
      },
      "execution_count": 45,
      "outputs": [
        {
          "output_type": "stream",
          "name": "stdout",
          "text": [
            "6299824\n",
            "[(7712754, 28713), (3632887, 528), (600744, 4285), (59804426, 61650), (4838455, 1450), (4822278, 779), (2556962, 594), (55029148, 123), (16381751, 209), (4700151, 1322), (5840274, 165), (1669534, 6340), (714570, 429), (594417, 7342), (1202168, 8311), (321544, 18535), (8355009, 64), (10936290, 27), (2978668, 288), (2349724, 4248), (4906617, 1997), (8004648, 93), (143804, 273), (1222755, 908), (4077845, 73), (5297162, 333), (1163095, 408), (14876253, 69), (9378013, 79), (6395043, 254), (1729032, 5426), (32566233, 2767), (47197315, 82), (5026730, 242), (221489, 8884), (10558683, 665), (1880521, 6984), (5886374, 1104), (22554980, 99194), (7198790, 391), (5260031, 397), (2597833, 646), (11934775, 54), (40042954, 3854), (3600326, 10684), (810047, 8062), (35473107, 6604), (5345208, 89), (20305346, 4402), (4189233, 424), (41274137, 14502), (712947, 174), (1921683, 344), (24976075, 287), (60432262, 134), (9179902, 30), (6893310, 122), (1283026, 3493), (2222596, 6870), (2516600, 2723), (715483, 579), (2874779, 625), (447585, 1230), (30254618, 133), (37033644, 1556), (719320, 838), (58164345, 121), (1758827, 7448), (34314219, 243), (64779246, 325), (4475056, 1564), (3214009, 657), (7141419, 1247), (1244298, 6998), (160290, 8381), (113023, 9962), (33786545, 1753), (208357, 2895), (22602473, 815), (10890993, 57), (489792, 5166), (8199103, 75), (33744797, 279), (8586861, 104), (14252394, 1662), (34473623, 222), (39531093, 209), (3611536, 126), (13587734, 106), (33897883, 429), (8636840, 55), (905971, 25185), (5467265, 407), (35473106, 8026), (35473105, 9632), (916775, 402), (3477744, 392), (12399541, 46), (12523350, 79), (10980865, 104)]\n"
          ]
        }
      ]
    },
    {
      "cell_type": "code",
      "source": [
        "sort_dic_by_id = sorted(list(wid2pv.items()),key=lambda x: x[0])\n",
        "print(sort_dic_by_id[:20])\n",
        "print(sort_dic_by_id[-20:])\n",
        "sort_dic_by_value = sorted(list(wid2pv.items()),key=lambda x: x[1])\n",
        "print(sort_dic_by_value[:20])\n",
        "print(sort_dic_by_value[-20:])\n",
        "\n"
      ],
      "metadata": {
        "colab": {
          "base_uri": "https://localhost:8080/"
        },
        "id": "4nYtAg4Hecf7",
        "outputId": "138950ed-253c-42fc-8a6e-8f9deff769ff"
      },
      "execution_count": 47,
      "outputs": [
        {
          "output_type": "stream",
          "name": "stdout",
          "text": [
            "[(12, 75195), (25, 114746), (39, 24532), (290, 164494), (303, 111033), (305, 135191), (307, 343343), (308, 151041), (309, 2961), (316, 7167), (324, 223758), (330, 39), (332, 1199), (334, 5597), (336, 25818), (339, 126270), (340, 1222), (344, 1158), (358, 168853), (359, 6074)]\n",
            "[(68380086, 32), (68380089, 36), (68380099, 87), (68380119, 363), (68380123, 179), (68380125, 30), (68380130, 39), (68380135, 56), (68380140, 20), (68380154, 11), (68380162, 69), (68380166, 613), (68380168, 70), (68380178, 75), (68380195, 30), (68380200, 27), (68380202, 61), (68380227, 29), (68380232, 8), (68380237, 19)]\n",
            "[(34430484, 1), (57379550, 1), (31598121, 1), (1017811, 1), (1135377, 1), (1190919, 1), (1240240, 1), (1313177, 1), (1316561, 1), (1351060, 1), (1381549, 1), (141167, 1), (141211, 1), (14732159, 1), (1476257, 1), (1523571, 1), (1620964, 1), (1681079, 1), (1799496, 1), (1811387, 1)]\n",
            "[(60476189, 1887714), (3630757, 1890062), (60203476, 1967889), (1384520, 2024231), (332667, 2141907), (65625519, 2194599), (62377974, 2303545), (3524766, 2565407), (3349824, 2783442), (2150841, 3166904), (51150040, 3284643), (623737, 3427102), (65984422, 3733064), (60827, 4323859), (3390, 4525604), (1610886, 4657885), (49632909, 5027640), (737, 6039676), (30635, 8143874), (15580374, 181126232)]\n"
          ]
        }
      ]
    },
    {
      "cell_type": "code",
      "source": [
        "\n",
        "values_view = sorted(list(wid2pv.values()),reverse=True)\n",
        "num_of_pages =(len(values_view))\n",
        "pstdev=statistics.pstdev(values_view)\n",
        "variance = statistics.pvariance(values_view)\n",
        "median = statistics.median(values_view)\n",
        "\n",
        "#max_r = max(values)\n",
        "#min_r = min(values) \n",
        "\n",
        "\n",
        "print(f\"number of pages: {num_of_pages}\\n\")\n",
        "print(f\"Max page views is : 181126232 \\n\")\n",
        "print(f\"Min page views is : 1 \\n\")\n",
        "print(f\"Median of page views is : {median}\\n\")\n",
        "print(f\"pstdev of page views is : {pstdev}\\n\")\n",
        "print(f\"variance of page views is : {variance}\\n\")\n",
        "print(f\"average of page views is : {sum(values_view)/len(values_view)}\")\n"
      ],
      "metadata": {
        "colab": {
          "base_uri": "https://localhost:8080/"
        },
        "id": "tB-UxQ9YCm37",
        "outputId": "71f37aaa-2a8a-4723-fa31-a30840700122"
      },
      "execution_count": 55,
      "outputs": [
        {
          "output_type": "stream",
          "name": "stdout",
          "text": [
            "number of pages: 6299824\n",
            "\n",
            "Max page views is : 181126232 \n",
            "\n",
            "Min page views is : 1 \n",
            "\n",
            "Median of page views is : 59.0\n",
            "\n",
            "pstdev of page views is : 73096.87993752112\n",
            "\n",
            "variance of page views is : 5343153856.600378\n",
            "\n",
            "average of page views is : 1136.696084843005\n"
          ]
        }
      ]
    },
    {
      "cell_type": "code",
      "source": [
        "print(\"Regular graph: \\n\")\n",
        "plt.plot(sorted(values_view))\n",
        "plt.show()\n",
        "print(\"Log2 graph: \\n\")\n",
        "plt.plot(sorted(np.log2(values_view)))\n",
        "plt.show()\n",
        "print(\"Log10 graph: \\n\")\n",
        "plt.plot(sorted(np.log10(values_view)))\n",
        "\n"
      ],
      "metadata": {
        "colab": {
          "base_uri": "https://localhost:8080/",
          "height": 933
        },
        "id": "UNVTcj8_D6UQ",
        "outputId": "18ca73f9-b18a-4abe-a552-15679c56cdc1"
      },
      "execution_count": 58,
      "outputs": [
        {
          "output_type": "stream",
          "name": "stdout",
          "text": [
            "Regular graph: \n",
            "\n"
          ]
        },
        {
          "output_type": "display_data",
          "data": {
            "image/png": "[encoded data removed]",
            "text/plain": [
              "<Figure size 432x288 with 1 Axes>"
            ]
          },
          "metadata": {
            "needs_background": "light"
          }
        },
        {
          "output_type": "stream",
          "name": "stdout",
          "text": [
            "Log2 graph: \n",
            "\n"
          ]
        },
        {
          "output_type": "display_data",
          "data": {
            "image/png": "[encoded data removed]",
            "text/plain": [
              "<Figure size 432x288 with 1 Axes>"
            ]
          },
          "metadata": {
            "needs_background": "light"
          }
        },
        {
          "output_type": "stream",
          "name": "stdout",
          "text": [
            "Log10 graph: \n",
            "\n"
          ]
        },
        {
          "output_type": "execute_result",
          "data": {
            "text/plain": [
              "[<matplotlib.lines.Line2D at 0x7fc039368390>]"
            ]
          },
          "metadata": {},
          "execution_count": 58
        },
        {
          "output_type": "display_data",
          "data": {
            "image/png": "[encoded data removed]",
            "text/plain": [
              "<Figure size 432x288 with 1 Axes>"
            ]
          },
          "metadata": {
            "needs_background": "light"
          }
        }
      ]
    }
  ]
}